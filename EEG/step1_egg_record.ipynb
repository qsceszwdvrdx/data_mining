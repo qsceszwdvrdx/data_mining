{
 "cells": [
  {
   "cell_type": "code",
   "execution_count": 1,
   "metadata": {},
   "outputs": [],
   "source": [
    "from muselsl import record"
   ]
  },
  {
   "cell_type": "code",
   "execution_count": 5,
   "metadata": {},
   "outputs": [
    {
     "name": "stdout",
     "output_type": "stream",
     "text": [
      "Looking for a EEG stream...\n",
      "Started acquiring data.\n",
      "Looking for a Markers stream...\n",
      "Can't find Markers stream.\n",
      "Start recording at time t=1685621118.711\n",
      "Time correction:  -4.174999958195258e-05\n",
      "Time correction:  -3.844999991997611e-05\n",
      "Done - wrote file: c:\\Users\\user\\Desktop\\eeg\\EEG_recording_2023-06-01-12.05.13.csv\n",
      "Recording has ended\n"
     ]
    }
   ],
   "source": [
    "if __name__ == \"__main__\":\n",
    "    record(30)\n",
    "    print('Recording has ended')"
   ]
  },
  {
   "cell_type": "code",
   "execution_count": null,
   "metadata": {},
   "outputs": [],
   "source": []
  }
 ],
 "metadata": {
  "kernelspec": {
   "display_name": "Python 3",
   "language": "python",
   "name": "python3"
  },
  "language_info": {
   "codemirror_mode": {
    "name": "ipython",
    "version": 3
   },
   "file_extension": ".py",
   "mimetype": "text/x-python",
   "name": "python",
   "nbconvert_exporter": "python",
   "pygments_lexer": "ipython3",
   "version": "3.10.11"
  },
  "orig_nbformat": 4,
  "vscode": {
   "interpreter": {
    "hash": "d1e76f36fd497ba09966a644cdb5ca2914f26d4c9a4ffe25cd98fef631710b92"
   }
  }
 },
 "nbformat": 4,
 "nbformat_minor": 2
}
