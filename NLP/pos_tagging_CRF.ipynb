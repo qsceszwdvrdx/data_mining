{
  "nbformat": 4,
  "nbformat_minor": 0,
  "metadata": {
    "colab": {
      "name": "pos-tagging-CRF.ipynb",
      "provenance": [],
      "collapsed_sections": []
    },
    "kernelspec": {
      "name": "python3",
      "display_name": "Python 3"
    },
    "language_info": {
      "name": "python"
    }
  },
  "cells": [
    {
      "cell_type": "markdown",
      "source": [
        "[CRF code]('https://sklearn-crfsuite.readthedocs.io/en/latest/tutorial.html')\n",
        "\n",
        "[CRF介紹]('http://blog.echen.me/2012/01/03/introduction-to-conditional-random-fields/')"
      ],
      "metadata": {
        "id": "VzgSJT8NRdNb"
      }
    },
    {
      "cell_type": "markdown",
      "source": [
        "#CRF"
      ],
      "metadata": {
        "id": "57ufujnhRd6z"
      }
    },
    {
      "cell_type": "code",
      "source": [
        "!pip install sklearn-crfsuite"
      ],
      "metadata": {
        "colab": {
          "base_uri": "https://localhost:8080/"
        },
        "id": "rhJ3wrfEW9rz",
        "outputId": "ecca553f-b19b-4b0e-85cd-54bccb336bf7"
      },
      "execution_count": null,
      "outputs": [
        {
          "output_type": "stream",
          "name": "stdout",
          "text": [
            "Collecting sklearn-crfsuite\n",
            "  Downloading sklearn_crfsuite-0.3.6-py2.py3-none-any.whl (12 kB)\n",
            "Requirement already satisfied: tqdm>=2.0 in /usr/local/lib/python3.7/dist-packages (from sklearn-crfsuite) (4.63.0)\n",
            "Requirement already satisfied: tabulate in /usr/local/lib/python3.7/dist-packages (from sklearn-crfsuite) (0.8.9)\n",
            "Collecting python-crfsuite>=0.8.3\n",
            "  Downloading python_crfsuite-0.9.7-cp37-cp37m-manylinux1_x86_64.whl (743 kB)\n",
            "\u001b[K     |████████████████████████████████| 743 kB 3.2 MB/s \n",
            "\u001b[?25hRequirement already satisfied: six in /usr/local/lib/python3.7/dist-packages (from sklearn-crfsuite) (1.15.0)\n",
            "Installing collected packages: python-crfsuite, sklearn-crfsuite\n",
            "Successfully installed python-crfsuite-0.9.7 sklearn-crfsuite-0.3.6\n"
          ]
        }
      ]
    },
    {
      "cell_type": "code",
      "source": [
        "import nltk\n",
        "import sklearn\n",
        "import scipy.stats\n",
        "import sklearn_crfsuite\n",
        "from itertools import chain  \n",
        "from sklearn_crfsuite import scorers\n",
        "from sklearn_crfsuite import metrics\n",
        "from sklearn.metrics import make_scorer\n",
        "from sklearn.model_selection import cross_val_score\n",
        "from sklearn.model_selection import RandomizedSearchCV"
      ],
      "metadata": {
        "id": "ADfJd73hYbwo"
      },
      "execution_count": null,
      "outputs": []
    },
    {
      "cell_type": "code",
      "source": [
        "nltk.download('conll2002')"
      ],
      "metadata": {
        "colab": {
          "base_uri": "https://localhost:8080/"
        },
        "id": "pbo6aOLDZ7yy",
        "outputId": "1781e850-2e0b-47ce-e559-ac5b2c5d17d8"
      },
      "execution_count": null,
      "outputs": [
        {
          "output_type": "stream",
          "name": "stdout",
          "text": [
            "[nltk_data] Downloading package conll2002 to /root/nltk_data...\n",
            "[nltk_data]   Unzipping corpora/conll2002.zip.\n"
          ]
        },
        {
          "output_type": "execute_result",
          "data": {
            "text/plain": [
              "True"
            ]
          },
          "metadata": {},
          "execution_count": 33
        }
      ]
    },
    {
      "cell_type": "code",
      "source": [
        "nltk.corpus.conll2002.fileids()"
      ],
      "metadata": {
        "colab": {
          "base_uri": "https://localhost:8080/"
        },
        "id": "eCZlTGH4Ymyv",
        "outputId": "9d830c11-70e5-4be7-c28a-cb427c3f8667"
      },
      "execution_count": null,
      "outputs": [
        {
          "output_type": "execute_result",
          "data": {
            "text/plain": [
              "['esp.testa', 'esp.testb', 'esp.train', 'ned.testa', 'ned.testb', 'ned.train']"
            ]
          },
          "metadata": {},
          "execution_count": 35
        }
      ]
    },
    {
      "cell_type": "code",
      "source": [
        "train_sents = list(nltk.corpus.conll2002.iob_sents('esp.train'))\n",
        "test_sents = list(nltk.corpus.conll2002.iob_sents('esp.testb'))"
      ],
      "metadata": {
        "id": "w88uDdUTYm06"
      },
      "execution_count": null,
      "outputs": []
    },
    {
      "cell_type": "code",
      "source": [
        "print(len(train_sents))\n",
        "print(len(test_sents))"
      ],
      "metadata": {
        "colab": {
          "base_uri": "https://localhost:8080/"
        },
        "id": "jI9vsnMpcWEm",
        "outputId": "76fb6394-75a9-46f3-e79e-aa2c09633cd3"
      },
      "execution_count": null,
      "outputs": [
        {
          "output_type": "stream",
          "name": "stdout",
          "text": [
            "8323\n",
            "1517\n"
          ]
        }
      ]
    },
    {
      "cell_type": "markdown",
      "source": [
        "[種類介紹]('https://chriskhanhtran.github.io/posts/named-entity-recognition-with-transformers/')\n",
        "在網站中的 3.label 部分"
      ],
      "metadata": {
        "id": "_oQzCOp9ec5K"
      }
    },
    {
      "cell_type": "code",
      "source": [
        "train_sents[0] # ('單字','詞性','種類')"
      ],
      "metadata": {
        "colab": {
          "base_uri": "https://localhost:8080/"
        },
        "id": "kMQrUJGKcWHu",
        "outputId": "1bc37c7d-52d0-4e1c-e07c-9caf91997893"
      },
      "execution_count": null,
      "outputs": [
        {
          "output_type": "execute_result",
          "data": {
            "text/plain": [
              "[('Melbourne', 'NP', 'B-LOC'),\n",
              " ('(', 'Fpa', 'O'),\n",
              " ('Australia', 'NP', 'B-LOC'),\n",
              " (')', 'Fpt', 'O'),\n",
              " (',', 'Fc', 'O'),\n",
              " ('25', 'Z', 'O'),\n",
              " ('may', 'NC', 'O'),\n",
              " ('(', 'Fpa', 'O'),\n",
              " ('EFE', 'NC', 'B-ORG'),\n",
              " (')', 'Fpt', 'O'),\n",
              " ('.', 'Fp', 'O')]"
            ]
          },
          "metadata": {},
          "execution_count": 49
        }
      ]
    },
    {
      "cell_type": "markdown",
      "source": [
        "##標註特徵 label feature"
      ],
      "metadata": {
        "id": "nP4x7-3MnCz7"
      }
    },
    {
      "cell_type": "code",
      "source": [
        "def word2features(sent, i):\n",
        "  word = sent[i][0]\n",
        "  postag = sent[i][1]\n",
        "\n",
        "  features = {              # 基本的單字資料\n",
        "      'bias': 1.0,\n",
        "      'word.lower()': word.lower(),    # 縮寫的單字\n",
        "      'word[-3:]': word[-3:],       # 字尾的三個字母\n",
        "      'word[-2:]': word[-2:],       # 字尾的兩個字母\n",
        "      'word.isupper()': word.isupper(),  # 判斷是否為大寫\n",
        "      'word.istitle()': word.istitle(),  # 判斷是否為標題\n",
        "      'word.isdigit()': word.isdigit(),  # 判斷是否為數字\n",
        "      'postag': postag,\n",
        "      'postag[:2]': postag[:2],    # tag字首的兩個單字\n",
        "  }\n",
        "  if i > 0:                # 前面有字時 >>> 加入前面單字的情況\n",
        "      word1 = sent[i-1][0]\n",
        "      postag1 = sent[i-1][1]\n",
        "      features.update({\n",
        "          '-1:word.lower()': word1.lower(),\n",
        "          '-1:word.istitle()': word1.istitle(),\n",
        "          '-1:word.isupper()': word1.isupper(),\n",
        "          '-1:postag': postag1,\n",
        "          '-1:postag[:2]': postag1[:2],\n",
        "      })\n",
        "  else:\n",
        "      features['BOS'] = True\n",
        "\n",
        "  if i < len(sent)-1:           # 後面有字時 >>> 加入後面單字的情況\n",
        "      word1 = sent[i+1][0]\n",
        "      postag1 = sent[i+1][1]\n",
        "      features.update({\n",
        "          '+1:word.lower()': word1.lower(),\n",
        "          '+1:word.istitle()': word1.istitle(),\n",
        "          '+1:word.isupper()': word1.isupper(),\n",
        "          '+1:postag': postag1,\n",
        "          '+1:postag[:2]': postag1[:2],\n",
        "      })\n",
        "  else:\n",
        "      features['EOS'] = True\n",
        "\n",
        "  return features"
      ],
      "metadata": {
        "id": "fEvaKS4UYm3n"
      },
      "execution_count": null,
      "outputs": []
    },
    {
      "cell_type": "code",
      "source": [
        "def sent2features(sent):\n",
        "  return [word2features(sent, i) for i in range(len(sent))]\n",
        "\n",
        "def sent2labels(sent):\n",
        "  return [label for token, postag, label in sent]\n",
        "\n",
        "def sent2tokens(sent):\n",
        "  return [token for token, postag, label in sent]"
      ],
      "metadata": {
        "id": "25xyRVmpaYSq"
      },
      "execution_count": null,
      "outputs": []
    },
    {
      "cell_type": "code",
      "source": [
        "# 計算執行時間\n",
        "%%time \n",
        "\n",
        "X_train = [sent2features(s) for s in train_sents]\n",
        "y_train = [sent2labels(s) for s in train_sents]\n",
        "\n",
        "X_test = [sent2features(s) for s in test_sents]\n",
        "y_test = [sent2labels(s) for s in test_sents]"
      ],
      "metadata": {
        "colab": {
          "base_uri": "https://localhost:8080/"
        },
        "id": "wdcy-rwuaYVQ",
        "outputId": "ca572c6f-8864-481f-92fc-d1d0d808b22c"
      },
      "execution_count": null,
      "outputs": [
        {
          "output_type": "stream",
          "name": "stdout",
          "text": [
            "CPU times: user 1.05 s, sys: 173 ms, total: 1.22 s\n",
            "Wall time: 1.22 s\n"
          ]
        }
      ]
    },
    {
      "cell_type": "markdown",
      "source": [
        "## model"
      ],
      "metadata": {
        "id": "StIQpDnlm8iG"
      }
    },
    {
      "cell_type": "code",
      "source": [
        "%%time\n",
        "crf = sklearn_crfsuite.CRF(     \n",
        "    algorithm='lbfgs',\n",
        "    c1=0.1,\n",
        "    c2=0.1,\n",
        "    max_iterations=100,\n",
        "    all_possible_transitions=True\n",
        ")\n",
        "crf.fit(X_train, y_train)"
      ],
      "metadata": {
        "colab": {
          "base_uri": "https://localhost:8080/"
        },
        "id": "KzydizbaaYYD",
        "outputId": "ade48058-0461-4c82-a968-d598d1658195"
      },
      "execution_count": null,
      "outputs": [
        {
          "output_type": "stream",
          "name": "stdout",
          "text": [
            "CPU times: user 38.5 s, sys: 201 ms, total: 38.7 s\n",
            "Wall time: 41.1 s\n"
          ]
        }
      ]
    },
    {
      "cell_type": "markdown",
      "source": [
        "## result"
      ],
      "metadata": {
        "id": "YeAHXEg0p-On"
      }
    },
    {
      "cell_type": "markdown",
      "source": [
        "[檢測結果的方法]('https://sklearn-crfsuite.readthedocs.io/en/latest/api.html') :\n",
        "accuracy , precision , recall , F1-score"
      ],
      "metadata": {
        "id": "OovaTBrQpVub"
      }
    },
    {
      "cell_type": "markdown",
      "source": [
        "F1 score"
      ],
      "metadata": {
        "id": "SmPR7Yaxnzey"
      }
    },
    {
      "cell_type": "code",
      "source": [
        "y_pred = crf.predict(X_test)\n",
        "metrics.flat_f1_score(y_test, y_pred,average='weighted', labels=labels)"
      ],
      "metadata": {
        "colab": {
          "base_uri": "https://localhost:8080/"
        },
        "id": "aGlYKpuhaYc0",
        "outputId": "58fbef25-0274-488e-e484-d6f572a15170"
      },
      "execution_count": null,
      "outputs": [
        {
          "output_type": "execute_result",
          "data": {
            "text/plain": [
              "0.7964686316443963"
            ]
          },
          "metadata": {},
          "execution_count": 42
        }
      ]
    },
    {
      "cell_type": "markdown",
      "source": [
        "accuracy"
      ],
      "metadata": {
        "id": "PIdzePfzn2p7"
      }
    },
    {
      "cell_type": "code",
      "source": [
        "sklearn_crfsuite.metrics.flat_accuracy_score(y_test, y_pred)"
      ],
      "metadata": {
        "colab": {
          "base_uri": "https://localhost:8080/"
        },
        "id": "lIwzJs2paYfD",
        "outputId": "16f27bda-12c8-452f-9a4c-8ccd03dd1dfd"
      },
      "execution_count": null,
      "outputs": [
        {
          "output_type": "execute_result",
          "data": {
            "text/plain": [
              "0.971455184056818"
            ]
          },
          "metadata": {},
          "execution_count": 63
        }
      ]
    },
    {
      "cell_type": "code",
      "source": [
        ""
      ],
      "metadata": {
        "id": "ce8dl355Ym53"
      },
      "execution_count": null,
      "outputs": []
    }
  ]
}