{
  "nbformat": 4,
  "nbformat_minor": 0,
  "metadata": {
    "colab": {
      "name": "pos-tagging-HMM.ipynb",
      "provenance": [],
      "collapsed_sections": []
    },
    "kernelspec": {
      "name": "python3",
      "display_name": "Python 3"
    },
    "language_info": {
      "name": "python"
    }
  },
  "cells": [
    {
      "cell_type": "markdown",
      "source": [
        "[程式碼]('https://www.mygreatlearning.com/blog/pos-tagging/')\n",
        "\n",
        "內容基本上沒有更改，只有調整一些順序跟備註。"
      ],
      "metadata": {
        "id": "q_xK6nyKQmFY"
      }
    },
    {
      "cell_type": "markdown",
      "source": [
        "# HMM"
      ],
      "metadata": {
        "id": "Yl-vUsmLJ4OP"
      }
    },
    {
      "cell_type": "code",
      "source": [
        "# Importing libraries\n",
        "import nltk\n",
        "import numpy as np\n",
        "import pandas as pd\n",
        "import random\n",
        "from sklearn.model_selection import train_test_split\n",
        "import pprint, time"
      ],
      "metadata": {
        "id": "gwAF6DOTKC96"
      },
      "execution_count": null,
      "outputs": []
    },
    {
      "cell_type": "code",
      "source": [
        "nltk.download('treebank')\n",
        "nltk.download('universal_tagset')"
      ],
      "metadata": {
        "colab": {
          "base_uri": "https://localhost:8080/"
        },
        "id": "Q80QoAwjKKBq",
        "outputId": "0bc89086-3ba5-4674-f66f-24d1a4c8263b"
      },
      "execution_count": null,
      "outputs": [
        {
          "output_type": "stream",
          "name": "stdout",
          "text": [
            "[nltk_data] Downloading package treebank to /root/nltk_data...\n",
            "[nltk_data]   Unzipping corpora/treebank.zip.\n",
            "[nltk_data] Downloading package universal_tagset to /root/nltk_data...\n",
            "[nltk_data]   Unzipping taggers/universal_tagset.zip.\n"
          ]
        },
        {
          "output_type": "execute_result",
          "data": {
            "text/plain": [
              "True"
            ]
          },
          "metadata": {},
          "execution_count": 2
        }
      ]
    },
    {
      "cell_type": "code",
      "execution_count": null,
      "metadata": {
        "colab": {
          "base_uri": "https://localhost:8080/"
        },
        "id": "YXKbf9rLJwKG",
        "outputId": "e9c8cd8d-965c-4966-b0ac-3f7eab96a2ba"
      },
      "outputs": [
        {
          "output_type": "stream",
          "name": "stdout",
          "text": [
            "[[('Pierre', 'NOUN'), ('Vinken', 'NOUN'), (',', '.'), ('61', 'NUM'), ('years', 'NOUN'), ('old', 'ADJ'), (',', '.'), ('will', 'VERB'), ('join', 'VERB'), ('the', 'DET'), ('board', 'NOUN'), ('as', 'ADP'), ('a', 'DET'), ('nonexecutive', 'ADJ'), ('director', 'NOUN'), ('Nov.', 'NOUN'), ('29', 'NUM'), ('.', '.')], [('Mr.', 'NOUN'), ('Vinken', 'NOUN'), ('is', 'VERB'), ('chairman', 'NOUN'), ('of', 'ADP'), ('Elsevier', 'NOUN'), ('N.V.', 'NOUN'), (',', '.'), ('the', 'DET'), ('Dutch', 'NOUN'), ('publishing', 'VERB'), ('group', 'NOUN'), ('.', '.')]]\n"
          ]
        }
      ],
      "source": [
        "nltk_data = list(nltk.corpus.treebank.tagged_sents(tagset='universal'))\n",
        "print(nltk_data[:2])"
      ]
    },
    {
      "cell_type": "code",
      "source": [
        "# for sent in nltk_data[:2]:\n",
        "#   for tuple in sent:\n",
        "#     print(tuple)"
      ],
      "metadata": {
        "id": "MMFOyclEJ4az"
      },
      "execution_count": null,
      "outputs": []
    },
    {
      "cell_type": "markdown",
      "source": [
        "# train/test"
      ],
      "metadata": {
        "id": "HlEB4yefPXW6"
      }
    },
    {
      "cell_type": "code",
      "source": [
        "train_set,test_set =train_test_split(nltk_data,train_size=0.80,test_size=0.20,random_state = 101)"
      ],
      "metadata": {
        "id": "UnNnfkmNJ4dJ"
      },
      "execution_count": null,
      "outputs": []
    },
    {
      "cell_type": "code",
      "source": [
        "train_tagged_words = [ tup for sent in train_set for tup in sent ]\n",
        "test_tagged_words = [ tup for sent in test_set for tup in sent ]\n",
        "print(len(train_tagged_words))\n",
        "print(len(test_tagged_words))"
      ],
      "metadata": {
        "colab": {
          "base_uri": "https://localhost:8080/"
        },
        "id": "MTo-0TKsJ4fn",
        "outputId": "4aba7d3e-10b7-49ea-95f0-e30fa41ac659"
      },
      "execution_count": null,
      "outputs": [
        {
          "output_type": "stream",
          "name": "stdout",
          "text": [
            "80310\n",
            "20366\n"
          ]
        }
      ]
    },
    {
      "cell_type": "code",
      "source": [
        "train_tagged_words[0]"
      ],
      "metadata": {
        "colab": {
          "base_uri": "https://localhost:8080/"
        },
        "id": "4gRsPwb9Ofqf",
        "outputId": "8126eefc-443a-4f98-eb23-cc39ae792068"
      },
      "execution_count": null,
      "outputs": [
        {
          "output_type": "execute_result",
          "data": {
            "text/plain": [
              "('Drink', 'NOUN')"
            ]
          },
          "metadata": {},
          "execution_count": 7
        }
      ]
    },
    {
      "cell_type": "markdown",
      "source": [
        "# 詞性/單字"
      ],
      "metadata": {
        "id": "VKQEljT7PLIY"
      }
    },
    {
      "cell_type": "code",
      "source": [
        "tags = {tag for word,tag in train_tagged_words}     #用set去重複\n",
        "vocab = {word for word,tag in train_tagged_words}\n",
        "print(len(tags))\n",
        "print(tags)"
      ],
      "metadata": {
        "colab": {
          "base_uri": "https://localhost:8080/"
        },
        "id": "Ic0faPn1N7ny",
        "outputId": "fa821102-dd2d-46c8-d683-1b27d969c843"
      },
      "execution_count": null,
      "outputs": [
        {
          "output_type": "stream",
          "name": "stdout",
          "text": [
            "12\n",
            "{'X', '.', 'ADP', 'PRT', 'ADJ', 'PRON', 'NOUN', 'VERB', 'CONJ', 'NUM', 'DET', 'ADV'}\n"
          ]
        }
      ]
    },
    {
      "cell_type": "code",
      "source": [
        ""
      ],
      "metadata": {
        "id": "Xp12SXUITk62"
      },
      "execution_count": null,
      "outputs": []
    },
    {
      "cell_type": "code",
      "source": [
        "# Emission Probability\n",
        "def word_given_tag(word, tag, train_bag = train_tagged_words):\n",
        "  tag_list = [pair for pair in train_bag if pair[1]==tag] #找出詞性相同\n",
        "  w_given_tag_list = [pair[0] for pair in tag_list if pair[0]==word] #找出相同單字\n",
        "  count_tag = len(tag_list)\n",
        "  count_w_given_tag = len(w_given_tag_list)\n",
        "    \n",
        "  return (count_w_given_tag, count_tag)"
      ],
      "metadata": {
        "id": "TRfwoWQ_OB7r"
      },
      "execution_count": null,
      "outputs": []
    },
    {
      "cell_type": "code",
      "source": [
        "# Transition Probability\n",
        "def t2_given_t1(t2, t1, train_bag = train_tagged_words):\n",
        "    tags = [pair[1] for pair in train_bag]  # 所有詞性標記\n",
        "    count_t1 = len([t for t in tags if t==t1])  # 詞性是t1的單字數量\n",
        "    count_t2_t1 = 0\n",
        "    for index in range(len(tags)-1):\n",
        "        if tags[index]==t1 and tags[index+1] == t2:  # 計算t1到t2的數量 \n",
        "            count_t2_t1 += 1\n",
        "    return (count_t2_t1, count_t1)"
      ],
      "metadata": {
        "id": "YWdovIZ_OCFT"
      },
      "execution_count": null,
      "outputs": []
    },
    {
      "cell_type": "code",
      "source": [
        "tags_matrix = np.zeros((len(tags), len(tags)), dtype='float32')\n",
        "for i, t1 in enumerate(list(tags)):\n",
        "    for j, t2 in enumerate(list(tags)): \n",
        "        tags_matrix[i, j] = t2_given_t1(t2, t1)[0]/t2_given_t1(t2, t1)[1]\n",
        " \n",
        "print(tags_matrix)"
      ],
      "metadata": {
        "colab": {
          "base_uri": "https://localhost:8080/"
        },
        "id": "tEWhO8oiQ0sr",
        "outputId": "81f329c4-efa9-4976-a04d-747d566c4800"
      },
      "execution_count": null,
      "outputs": [
        {
          "output_type": "stream",
          "name": "stdout",
          "text": [
            "[[7.57255405e-02 1.60868734e-01 1.42225638e-01 1.85085520e-01\n",
            "  1.76821072e-02 5.41995019e-02 6.16951771e-02 2.06419379e-01\n",
            "  1.03786280e-02 3.07514891e-03 5.68902567e-02 2.57543717e-02]\n",
            " [2.56410260e-02 9.23720598e-02 9.29084867e-02 2.78940029e-03\n",
            "  4.61323895e-02 6.87694475e-02 2.18538776e-01 8.96899477e-02\n",
            "  6.00793920e-02 7.82104954e-02 1.72191828e-01 5.25694676e-02]\n",
            " [3.45482156e-02 3.87243740e-02 1.69577319e-02 1.26550242e-03\n",
            "  1.07061505e-01 6.96026310e-02 3.23588967e-01 8.47886596e-03\n",
            "  1.01240189e-03 6.32751212e-02 3.20931405e-01 1.45532778e-02]\n",
            " [1.21330721e-02 4.50097844e-02 1.95694715e-02 1.17416831e-03\n",
            "  8.29745606e-02 1.76125243e-02 2.50489235e-01 4.01174158e-01\n",
            "  2.34833662e-03 5.67514673e-02 1.01369865e-01 9.39334650e-03]\n",
            " [2.09708735e-02 6.60194159e-02 8.05825219e-02 1.14563107e-02\n",
            "  6.33009672e-02 1.94174761e-04 6.96893215e-01 1.14563107e-02\n",
            "  1.68932043e-02 2.17475723e-02 5.24271838e-03 5.24271838e-03]\n",
            " [8.83826911e-02 4.19134386e-02 2.23234631e-02 1.41230067e-02\n",
            "  7.06150308e-02 6.83371304e-03 2.12756261e-01 4.84738052e-01\n",
            "  5.01138950e-03 6.83371304e-03 9.56719834e-03 3.69020514e-02]\n",
            " [2.88252197e-02 2.40094051e-01 1.76826611e-01 4.39345129e-02\n",
            "  1.25838192e-02 4.65906132e-03 2.62344331e-01 1.49133503e-01\n",
            "  4.24540639e-02 9.14395228e-03 1.31063312e-02 1.68945398e-02]\n",
            " [2.15930015e-01 3.48066315e-02 9.23572779e-02 3.06629837e-02\n",
            "  6.63904250e-02 3.55432779e-02 1.10589318e-01 1.67955801e-01\n",
            "  5.43278083e-03 2.28360966e-02 1.33609578e-01 8.38858187e-02]\n",
            " [9.33040585e-03 3.51262353e-02 5.59824370e-02 4.39077942e-03\n",
            "  1.13611415e-01 6.03732169e-02 3.49066973e-01 1.50384188e-01\n",
            "  5.48847427e-04 4.06147093e-02 1.23490669e-01 5.70801310e-02]\n",
            " [2.02427700e-01 1.19243130e-01 3.74866128e-02 2.60621198e-02\n",
            "  3.53445187e-02 1.42806140e-03 3.51660132e-01 2.07068902e-02\n",
            "  1.42806144e-02 1.84219927e-01 3.57015361e-03 3.57015361e-03]\n",
            " [4.51343954e-02 1.73925534e-02 9.91806854e-03 2.87480245e-04\n",
            "  2.06410810e-01 3.30602261e-03 6.35906279e-01 4.02472317e-02\n",
            "  4.31220367e-04 2.28546783e-02 6.03708485e-03 1.20741697e-02]\n",
            " [2.28859577e-02 1.39255241e-01 1.19472459e-01 1.47401085e-02\n",
            "  1.30721495e-01 1.20248254e-02 3.21955010e-02 3.39022487e-01\n",
            "  6.98215654e-03 2.98681147e-02 7.13731572e-02 8.14584941e-02]]\n"
          ]
        }
      ]
    },
    {
      "cell_type": "code",
      "source": [
        "tags_df = pd.DataFrame(tags_matrix, columns = list(tags), index=list(tags)) # 用表來看 左邊為先前的狀態 上面為現在的狀態\n",
        "display(tags_df)"
      ],
      "metadata": {
        "colab": {
          "base_uri": "https://localhost:8080/",
          "height": 426
        },
        "id": "Ow0149DIQ0vJ",
        "outputId": "60ff200f-e834-4ff1-8ef2-3408e9b9248f"
      },
      "execution_count": null,
      "outputs": [
        {
          "output_type": "display_data",
          "data": {
            "text/html": [
              "\n",
              "  <div id=\"df-e424dfd4-c675-4905-9320-0fceb549f357\">\n",
              "    <div class=\"colab-df-container\">\n",
              "      <div>\n",
              "<style scoped>\n",
              "    .dataframe tbody tr th:only-of-type {\n",
              "        vertical-align: middle;\n",
              "    }\n",
              "\n",
              "    .dataframe tbody tr th {\n",
              "        vertical-align: top;\n",
              "    }\n",
              "\n",
              "    .dataframe thead th {\n",
              "        text-align: right;\n",
              "    }\n",
              "</style>\n",
              "<table border=\"1\" class=\"dataframe\">\n",
              "  <thead>\n",
              "    <tr style=\"text-align: right;\">\n",
              "      <th></th>\n",
              "      <th>X</th>\n",
              "      <th>.</th>\n",
              "      <th>ADP</th>\n",
              "      <th>PRT</th>\n",
              "      <th>ADJ</th>\n",
              "      <th>PRON</th>\n",
              "      <th>NOUN</th>\n",
              "      <th>VERB</th>\n",
              "      <th>CONJ</th>\n",
              "      <th>NUM</th>\n",
              "      <th>DET</th>\n",
              "      <th>ADV</th>\n",
              "    </tr>\n",
              "  </thead>\n",
              "  <tbody>\n",
              "    <tr>\n",
              "      <th>X</th>\n",
              "      <td>0.075726</td>\n",
              "      <td>0.160869</td>\n",
              "      <td>0.142226</td>\n",
              "      <td>0.185086</td>\n",
              "      <td>0.017682</td>\n",
              "      <td>0.054200</td>\n",
              "      <td>0.061695</td>\n",
              "      <td>0.206419</td>\n",
              "      <td>0.010379</td>\n",
              "      <td>0.003075</td>\n",
              "      <td>0.056890</td>\n",
              "      <td>0.025754</td>\n",
              "    </tr>\n",
              "    <tr>\n",
              "      <th>.</th>\n",
              "      <td>0.025641</td>\n",
              "      <td>0.092372</td>\n",
              "      <td>0.092908</td>\n",
              "      <td>0.002789</td>\n",
              "      <td>0.046132</td>\n",
              "      <td>0.068769</td>\n",
              "      <td>0.218539</td>\n",
              "      <td>0.089690</td>\n",
              "      <td>0.060079</td>\n",
              "      <td>0.078210</td>\n",
              "      <td>0.172192</td>\n",
              "      <td>0.052569</td>\n",
              "    </tr>\n",
              "    <tr>\n",
              "      <th>ADP</th>\n",
              "      <td>0.034548</td>\n",
              "      <td>0.038724</td>\n",
              "      <td>0.016958</td>\n",
              "      <td>0.001266</td>\n",
              "      <td>0.107062</td>\n",
              "      <td>0.069603</td>\n",
              "      <td>0.323589</td>\n",
              "      <td>0.008479</td>\n",
              "      <td>0.001012</td>\n",
              "      <td>0.063275</td>\n",
              "      <td>0.320931</td>\n",
              "      <td>0.014553</td>\n",
              "    </tr>\n",
              "    <tr>\n",
              "      <th>PRT</th>\n",
              "      <td>0.012133</td>\n",
              "      <td>0.045010</td>\n",
              "      <td>0.019569</td>\n",
              "      <td>0.001174</td>\n",
              "      <td>0.082975</td>\n",
              "      <td>0.017613</td>\n",
              "      <td>0.250489</td>\n",
              "      <td>0.401174</td>\n",
              "      <td>0.002348</td>\n",
              "      <td>0.056751</td>\n",
              "      <td>0.101370</td>\n",
              "      <td>0.009393</td>\n",
              "    </tr>\n",
              "    <tr>\n",
              "      <th>ADJ</th>\n",
              "      <td>0.020971</td>\n",
              "      <td>0.066019</td>\n",
              "      <td>0.080583</td>\n",
              "      <td>0.011456</td>\n",
              "      <td>0.063301</td>\n",
              "      <td>0.000194</td>\n",
              "      <td>0.696893</td>\n",
              "      <td>0.011456</td>\n",
              "      <td>0.016893</td>\n",
              "      <td>0.021748</td>\n",
              "      <td>0.005243</td>\n",
              "      <td>0.005243</td>\n",
              "    </tr>\n",
              "    <tr>\n",
              "      <th>PRON</th>\n",
              "      <td>0.088383</td>\n",
              "      <td>0.041913</td>\n",
              "      <td>0.022323</td>\n",
              "      <td>0.014123</td>\n",
              "      <td>0.070615</td>\n",
              "      <td>0.006834</td>\n",
              "      <td>0.212756</td>\n",
              "      <td>0.484738</td>\n",
              "      <td>0.005011</td>\n",
              "      <td>0.006834</td>\n",
              "      <td>0.009567</td>\n",
              "      <td>0.036902</td>\n",
              "    </tr>\n",
              "    <tr>\n",
              "      <th>NOUN</th>\n",
              "      <td>0.028825</td>\n",
              "      <td>0.240094</td>\n",
              "      <td>0.176827</td>\n",
              "      <td>0.043935</td>\n",
              "      <td>0.012584</td>\n",
              "      <td>0.004659</td>\n",
              "      <td>0.262344</td>\n",
              "      <td>0.149134</td>\n",
              "      <td>0.042454</td>\n",
              "      <td>0.009144</td>\n",
              "      <td>0.013106</td>\n",
              "      <td>0.016895</td>\n",
              "    </tr>\n",
              "    <tr>\n",
              "      <th>VERB</th>\n",
              "      <td>0.215930</td>\n",
              "      <td>0.034807</td>\n",
              "      <td>0.092357</td>\n",
              "      <td>0.030663</td>\n",
              "      <td>0.066390</td>\n",
              "      <td>0.035543</td>\n",
              "      <td>0.110589</td>\n",
              "      <td>0.167956</td>\n",
              "      <td>0.005433</td>\n",
              "      <td>0.022836</td>\n",
              "      <td>0.133610</td>\n",
              "      <td>0.083886</td>\n",
              "    </tr>\n",
              "    <tr>\n",
              "      <th>CONJ</th>\n",
              "      <td>0.009330</td>\n",
              "      <td>0.035126</td>\n",
              "      <td>0.055982</td>\n",
              "      <td>0.004391</td>\n",
              "      <td>0.113611</td>\n",
              "      <td>0.060373</td>\n",
              "      <td>0.349067</td>\n",
              "      <td>0.150384</td>\n",
              "      <td>0.000549</td>\n",
              "      <td>0.040615</td>\n",
              "      <td>0.123491</td>\n",
              "      <td>0.057080</td>\n",
              "    </tr>\n",
              "    <tr>\n",
              "      <th>NUM</th>\n",
              "      <td>0.202428</td>\n",
              "      <td>0.119243</td>\n",
              "      <td>0.037487</td>\n",
              "      <td>0.026062</td>\n",
              "      <td>0.035345</td>\n",
              "      <td>0.001428</td>\n",
              "      <td>0.351660</td>\n",
              "      <td>0.020707</td>\n",
              "      <td>0.014281</td>\n",
              "      <td>0.184220</td>\n",
              "      <td>0.003570</td>\n",
              "      <td>0.003570</td>\n",
              "    </tr>\n",
              "    <tr>\n",
              "      <th>DET</th>\n",
              "      <td>0.045134</td>\n",
              "      <td>0.017393</td>\n",
              "      <td>0.009918</td>\n",
              "      <td>0.000287</td>\n",
              "      <td>0.206411</td>\n",
              "      <td>0.003306</td>\n",
              "      <td>0.635906</td>\n",
              "      <td>0.040247</td>\n",
              "      <td>0.000431</td>\n",
              "      <td>0.022855</td>\n",
              "      <td>0.006037</td>\n",
              "      <td>0.012074</td>\n",
              "    </tr>\n",
              "    <tr>\n",
              "      <th>ADV</th>\n",
              "      <td>0.022886</td>\n",
              "      <td>0.139255</td>\n",
              "      <td>0.119472</td>\n",
              "      <td>0.014740</td>\n",
              "      <td>0.130721</td>\n",
              "      <td>0.012025</td>\n",
              "      <td>0.032196</td>\n",
              "      <td>0.339022</td>\n",
              "      <td>0.006982</td>\n",
              "      <td>0.029868</td>\n",
              "      <td>0.071373</td>\n",
              "      <td>0.081458</td>\n",
              "    </tr>\n",
              "  </tbody>\n",
              "</table>\n",
              "</div>\n",
              "      <button class=\"colab-df-convert\" onclick=\"convertToInteractive('df-e424dfd4-c675-4905-9320-0fceb549f357')\"\n",
              "              title=\"Convert this dataframe to an interactive table.\"\n",
              "              style=\"display:none;\">\n",
              "        \n",
              "  <svg xmlns=\"http://www.w3.org/2000/svg\" height=\"24px\"viewBox=\"0 0 24 24\"\n",
              "       width=\"24px\">\n",
              "    <path d=\"M0 0h24v24H0V0z\" fill=\"none\"/>\n",
              "    <path d=\"M18.56 5.44l.94 2.06.94-2.06 2.06-.94-2.06-.94-.94-2.06-.94 2.06-2.06.94zm-11 1L8.5 8.5l.94-2.06 2.06-.94-2.06-.94L8.5 2.5l-.94 2.06-2.06.94zm10 10l.94 2.06.94-2.06 2.06-.94-2.06-.94-.94-2.06-.94 2.06-2.06.94z\"/><path d=\"M17.41 7.96l-1.37-1.37c-.4-.4-.92-.59-1.43-.59-.52 0-1.04.2-1.43.59L10.3 9.45l-7.72 7.72c-.78.78-.78 2.05 0 2.83L4 21.41c.39.39.9.59 1.41.59.51 0 1.02-.2 1.41-.59l7.78-7.78 2.81-2.81c.8-.78.8-2.07 0-2.86zM5.41 20L4 18.59l7.72-7.72 1.47 1.35L5.41 20z\"/>\n",
              "  </svg>\n",
              "      </button>\n",
              "      \n",
              "  <style>\n",
              "    .colab-df-container {\n",
              "      display:flex;\n",
              "      flex-wrap:wrap;\n",
              "      gap: 12px;\n",
              "    }\n",
              "\n",
              "    .colab-df-convert {\n",
              "      background-color: #E8F0FE;\n",
              "      border: none;\n",
              "      border-radius: 50%;\n",
              "      cursor: pointer;\n",
              "      display: none;\n",
              "      fill: #1967D2;\n",
              "      height: 32px;\n",
              "      padding: 0 0 0 0;\n",
              "      width: 32px;\n",
              "    }\n",
              "\n",
              "    .colab-df-convert:hover {\n",
              "      background-color: #E2EBFA;\n",
              "      box-shadow: 0px 1px 2px rgba(60, 64, 67, 0.3), 0px 1px 3px 1px rgba(60, 64, 67, 0.15);\n",
              "      fill: #174EA6;\n",
              "    }\n",
              "\n",
              "    [theme=dark] .colab-df-convert {\n",
              "      background-color: #3B4455;\n",
              "      fill: #D2E3FC;\n",
              "    }\n",
              "\n",
              "    [theme=dark] .colab-df-convert:hover {\n",
              "      background-color: #434B5C;\n",
              "      box-shadow: 0px 1px 3px 1px rgba(0, 0, 0, 0.15);\n",
              "      filter: drop-shadow(0px 1px 2px rgba(0, 0, 0, 0.3));\n",
              "      fill: #FFFFFF;\n",
              "    }\n",
              "  </style>\n",
              "\n",
              "      <script>\n",
              "        const buttonEl =\n",
              "          document.querySelector('#df-e424dfd4-c675-4905-9320-0fceb549f357 button.colab-df-convert');\n",
              "        buttonEl.style.display =\n",
              "          google.colab.kernel.accessAllowed ? 'block' : 'none';\n",
              "\n",
              "        async function convertToInteractive(key) {\n",
              "          const element = document.querySelector('#df-e424dfd4-c675-4905-9320-0fceb549f357');\n",
              "          const dataTable =\n",
              "            await google.colab.kernel.invokeFunction('convertToInteractive',\n",
              "                                                     [key], {});\n",
              "          if (!dataTable) return;\n",
              "\n",
              "          const docLinkHtml = 'Like what you see? Visit the ' +\n",
              "            '<a target=\"_blank\" href=https://colab.research.google.com/notebooks/data_table.ipynb>data table notebook</a>'\n",
              "            + ' to learn more about interactive tables.';\n",
              "          element.innerHTML = '';\n",
              "          dataTable['output_type'] = 'display_data';\n",
              "          await google.colab.output.renderOutput(dataTable, element);\n",
              "          const docLink = document.createElement('div');\n",
              "          docLink.innerHTML = docLinkHtml;\n",
              "          element.appendChild(docLink);\n",
              "        }\n",
              "      </script>\n",
              "    </div>\n",
              "  </div>\n",
              "  "
            ],
            "text/plain": [
              "             X         .       ADP       PRT       ADJ      PRON      NOUN  \\\n",
              "X     0.075726  0.160869  0.142226  0.185086  0.017682  0.054200  0.061695   \n",
              ".     0.025641  0.092372  0.092908  0.002789  0.046132  0.068769  0.218539   \n",
              "ADP   0.034548  0.038724  0.016958  0.001266  0.107062  0.069603  0.323589   \n",
              "PRT   0.012133  0.045010  0.019569  0.001174  0.082975  0.017613  0.250489   \n",
              "ADJ   0.020971  0.066019  0.080583  0.011456  0.063301  0.000194  0.696893   \n",
              "PRON  0.088383  0.041913  0.022323  0.014123  0.070615  0.006834  0.212756   \n",
              "NOUN  0.028825  0.240094  0.176827  0.043935  0.012584  0.004659  0.262344   \n",
              "VERB  0.215930  0.034807  0.092357  0.030663  0.066390  0.035543  0.110589   \n",
              "CONJ  0.009330  0.035126  0.055982  0.004391  0.113611  0.060373  0.349067   \n",
              "NUM   0.202428  0.119243  0.037487  0.026062  0.035345  0.001428  0.351660   \n",
              "DET   0.045134  0.017393  0.009918  0.000287  0.206411  0.003306  0.635906   \n",
              "ADV   0.022886  0.139255  0.119472  0.014740  0.130721  0.012025  0.032196   \n",
              "\n",
              "          VERB      CONJ       NUM       DET       ADV  \n",
              "X     0.206419  0.010379  0.003075  0.056890  0.025754  \n",
              ".     0.089690  0.060079  0.078210  0.172192  0.052569  \n",
              "ADP   0.008479  0.001012  0.063275  0.320931  0.014553  \n",
              "PRT   0.401174  0.002348  0.056751  0.101370  0.009393  \n",
              "ADJ   0.011456  0.016893  0.021748  0.005243  0.005243  \n",
              "PRON  0.484738  0.005011  0.006834  0.009567  0.036902  \n",
              "NOUN  0.149134  0.042454  0.009144  0.013106  0.016895  \n",
              "VERB  0.167956  0.005433  0.022836  0.133610  0.083886  \n",
              "CONJ  0.150384  0.000549  0.040615  0.123491  0.057080  \n",
              "NUM   0.020707  0.014281  0.184220  0.003570  0.003570  \n",
              "DET   0.040247  0.000431  0.022855  0.006037  0.012074  \n",
              "ADV   0.339022  0.006982  0.029868  0.071373  0.081458  "
            ]
          },
          "metadata": {}
        }
      ]
    },
    {
      "cell_type": "code",
      "source": [
        "# list(set([pair[1] for pair in train_tagged_words]))"
      ],
      "metadata": {
        "id": "dcIlXnOKcOBe"
      },
      "execution_count": null,
      "outputs": []
    },
    {
      "cell_type": "code",
      "source": [
        "def Viterbi(words, train_bag = train_tagged_words):\n",
        "  state = []\n",
        "  T = list(set([pair[1] for pair in train_bag]))\n",
        "    \n",
        "  for key, word in enumerate(words):\n",
        "      \n",
        "    p = [] \n",
        "    for tag in T:\n",
        "      if key == 0:                 # transition_p = 特定狀態發生的機率 (例如:形容詞連接名詞)\n",
        "        transition_p = tags_df.loc['.', tag]   # 只有一個字的時候 當作前面是 '.' 的狀況\n",
        "      else:\n",
        "        transition_p = tags_df.loc[state[-1], tag]  \n",
        "            \n",
        "      # 計算 HMM 看狀態的機率跟觀察的機率\n",
        "      emission_p = word_given_tag(words[key], tag)[0]/word_given_tag(words[key], tag)[1]\n",
        "      state_probability = emission_p * transition_p    \n",
        "      p.append(state_probability)\n",
        "          \n",
        "    pmax = max(p)\n",
        "    state_max = T[p.index(pmax)] \n",
        "    state.append(state_max)\n",
        "  return list(zip(words, state))"
      ],
      "metadata": {
        "id": "t_8HbA8MQ0xi"
      },
      "execution_count": null,
      "outputs": []
    },
    {
      "cell_type": "code",
      "source": [
        "random.seed(1234)      \n",
        "rndom = [random.randint(1,len(test_set)) for x in range(10)]\n",
        "test_run = [test_set[i] for i in rndom]\n",
        "test_run_base = [tup for sent in test_run for tup in sent]\n",
        "test_tagged_words = [tup[0] for sent in test_run for tup in sent]"
      ],
      "metadata": {
        "id": "2r-B6PN4Q00E"
      },
      "execution_count": null,
      "outputs": []
    },
    {
      "cell_type": "code",
      "source": [
        "len(rndom)"
      ],
      "metadata": {
        "colab": {
          "base_uri": "https://localhost:8080/"
        },
        "id": "1FFXCCzpSb3k",
        "outputId": "d9f48e74-192e-4b58-9fba-d254eecdeca7"
      },
      "execution_count": null,
      "outputs": [
        {
          "output_type": "execute_result",
          "data": {
            "text/plain": [
              "10"
            ]
          },
          "metadata": {},
          "execution_count": 21
        }
      ]
    },
    {
      "cell_type": "code",
      "source": [
        "start = time.time()\n",
        "tagged_seq = Viterbi(test_tagged_words)\n",
        "end = time.time()\n",
        "difference = end-start\n",
        " \n",
        "print(\"Time taken in seconds: \", difference)\n",
        " \n",
        "# accuracy\n",
        "check = [i for i, j in zip(tagged_seq, test_run_base) if i == j] \n",
        " \n",
        "accuracy = len(check)/len(tagged_seq)\n",
        "print('Viterbi Algorithm Accuracy: ',accuracy*100)"
      ],
      "metadata": {
        "colab": {
          "base_uri": "https://localhost:8080/"
        },
        "id": "e52O2L-AQ02V",
        "outputId": "e254d3b6-de2f-4a6b-dc4f-d2dcf9bb2c8b"
      },
      "execution_count": null,
      "outputs": [
        {
          "output_type": "stream",
          "name": "stdout",
          "text": [
            "Time taken in seconds:  61.668063163757324\n",
            "Viterbi Algorithm Accuracy:  94.25837320574163\n"
          ]
        }
      ]
    },
    {
      "cell_type": "markdown",
      "source": [
        "全部跑 實在太久就先不執行了"
      ],
      "metadata": {
        "id": "yAVNAIhxSsMA"
      }
    },
    {
      "cell_type": "code",
      "source": [
        "# test_tagged_words = [tup for sent in test_set for tup in sent]\n",
        "# test_untagged_words = [tup[0] for sent in test_set for tup in sent]\n",
        "# test_untagged_words\n",
        " \n",
        "# start = time.time()\n",
        "# tagged_seq = Viterbi(test_untagged_words)\n",
        "# end = time.time()\n",
        "# difference = end-start\n",
        " \n",
        "# print(\"Time taken in seconds: \", difference)\n",
        " \n",
        "# # accuracy\n",
        "# check = [i for i, j in zip(test_tagged_words, test_untagged_words) if i == j] \n",
        " \n",
        "# accuracy = len(check)/len(tagged_seq)\n",
        "# print('Viterbi Algorithm Accuracy: ',accuracy*100)"
      ],
      "metadata": {
        "id": "K_2gLLNBSHpZ"
      },
      "execution_count": null,
      "outputs": []
    },
    {
      "cell_type": "code",
      "source": [
        "patterns = [\n",
        "    (r'.*ing$', 'VERB'),              # 進行式\n",
        "    (r'.*ed$', 'VERB'),               # 過去式 \n",
        "    (r'.*es$', 'VERB'),               # 動詞  \n",
        "    (r'.*\\'s$', 'NOUN'),              # 所有格\n",
        "    (r'.*s$', 'NOUN'),               # 複數\n",
        "    (r'\\*T?\\*?-[0-9]+$', 'X'),           # X\n",
        "    (r'^-?[0-9]+(.[0-9]+)?$', 'NUM'),        # 基數\n",
        "    (r'.*', 'NOUN')                 # nouns\n",
        "]\n",
        " \n",
        "rule_based_tagger = nltk.RegexpTagger(patterns)"
      ],
      "metadata": {
        "id": "7XZMIqUvSHru"
      },
      "execution_count": null,
      "outputs": []
    },
    {
      "cell_type": "code",
      "source": [
        "def Viterbi_rule_based(words, train_bag = train_tagged_words):\n",
        "  state = []\n",
        "  T = list(set([pair[1] for pair in train_bag]))\n",
        "    \n",
        "  for key, word in enumerate(words): \n",
        "    p = [] \n",
        "    for tag in T:\n",
        "      if key == 0:\n",
        "        transition_p = tags_df.loc['.', tag]\n",
        "      else:\n",
        "        transition_p = tags_df.loc[state[-1], tag]\n",
        "             \n",
        "      emission_p = word_given_tag(words[key], tag)[0]/word_given_tag(words[key], tag)[1]\n",
        "      state_probability = emission_p * transition_p    \n",
        "      p.append(state_probability)\n",
        "          \n",
        "    pmax = max(p)\n",
        "    state_max = rule_based_tagger.tag([word])[0][1]       \n",
        "    \n",
        "      \n",
        "    if(pmax==0):\n",
        "      state_max = rule_based_tagger.tag([word])[0][1] \n",
        "    else:\n",
        "      if state_max != 'X':\n",
        "        state_max = T[p.index(pmax)]                \n",
        "          \n",
        "      \n",
        "    state.append(state_max)\n",
        "  return list(zip(words, state))"
      ],
      "metadata": {
        "id": "dphEsmpASHu-"
      },
      "execution_count": null,
      "outputs": []
    },
    {
      "cell_type": "code",
      "source": [
        "start = time.time()\n",
        "tagged_seq = Viterbi_rule_based(test_tagged_words)\n",
        "end = time.time()\n",
        "difference = end-start\n",
        " \n",
        "print(\"Time taken in seconds: \", difference)\n",
        " \n",
        "# accuracy\n",
        "check = [i for i, j in zip(tagged_seq, test_run_base) if i == j] \n",
        " \n",
        "accuracy = len(check)/len(tagged_seq)\n",
        "print('Viterbi Algorithm Accuracy: ',accuracy*100)"
      ],
      "metadata": {
        "id": "4eG-uCoRSHxK",
        "colab": {
          "base_uri": "https://localhost:8080/"
        },
        "outputId": "a22f1465-4bd5-4dea-e050-754a0b0631fd"
      },
      "execution_count": null,
      "outputs": [
        {
          "output_type": "stream",
          "name": "stdout",
          "text": [
            "Time taken in seconds:  67.74631190299988\n",
            "Viterbi Algorithm Accuracy:  97.1291866028708\n"
          ]
        }
      ]
    },
    {
      "cell_type": "markdown",
      "source": [
        "比較兩種方法"
      ],
      "metadata": {
        "id": "fSeU6OxPTw_-"
      }
    },
    {
      "cell_type": "code",
      "source": [
        "test_sent=\"Will can see Marry\"\n",
        "pred_tags_rule=Viterbi_rule_based(test_sent.split())\n",
        "pred_tags_withoutRules= Viterbi(test_sent.split())\n",
        "print(pred_tags_rule)\n",
        "print(pred_tags_withoutRules)"
      ],
      "metadata": {
        "id": "1ar9tG-OSHzo",
        "colab": {
          "base_uri": "https://localhost:8080/"
        },
        "outputId": "48ce394d-757d-40fb-91d2-adbc81de46cf"
      },
      "execution_count": null,
      "outputs": [
        {
          "output_type": "stream",
          "name": "stdout",
          "text": [
            "[('Will', 'NOUN'), ('can', 'VERB'), ('see', 'VERB'), ('Marry', 'NOUN')]\n",
            "[('Will', 'X'), ('can', 'VERB'), ('see', 'VERB'), ('Marry', 'X')]\n"
          ]
        }
      ]
    },
    {
      "cell_type": "code",
      "source": [
        ""
      ],
      "metadata": {
        "id": "ONxunqhIS67y"
      },
      "execution_count": null,
      "outputs": []
    }
  ]
}