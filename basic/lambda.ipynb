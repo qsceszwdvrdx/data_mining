{
  "nbformat": 4,
  "nbformat_minor": 0,
  "metadata": {
    "colab": {
      "name": "lambda.ipynb",
      "provenance": [],
      "collapsed_sections": []
    },
    "kernelspec": {
      "name": "python3",
      "display_name": "Python 3"
    },
    "language_info": {
      "name": "python"
    }
  },
  "cells": [
    {
      "cell_type": "markdown",
      "metadata": {
        "id": "vHFFPp3GfjZA"
      },
      "source": [
        "基本用法"
      ]
    },
    {
      "cell_type": "code",
      "metadata": {
        "id": "UGXWmZoDfS5g"
      },
      "source": [
        "mul = lambda x,y : x*y     #冒號前面放input,後面放def內容"
      ],
      "execution_count": 36,
      "outputs": []
    },
    {
      "cell_type": "code",
      "metadata": {
        "colab": {
          "base_uri": "https://localhost:8080/"
        },
        "id": "pdzvgu4TfY6P",
        "outputId": "1ac61e38-0831-4482-dddb-2dc1d7be9086"
      },
      "source": [
        "mul(3,5)"
      ],
      "execution_count": 37,
      "outputs": [
        {
          "output_type": "execute_result",
          "data": {
            "text/plain": [
              "15"
            ]
          },
          "metadata": {
            "tags": []
          },
          "execution_count": 37
        }
      ]
    },
    {
      "cell_type": "code",
      "metadata": {
        "colab": {
          "base_uri": "https://localhost:8080/"
        },
        "id": "3WFnFIn3fY8s",
        "outputId": "4d1cb206-ed5f-4987-a86a-41470d51b844"
      },
      "source": [
        "mul(4,8)"
      ],
      "execution_count": 38,
      "outputs": [
        {
          "output_type": "execute_result",
          "data": {
            "text/plain": [
              "32"
            ]
          },
          "metadata": {
            "tags": []
          },
          "execution_count": 38
        }
      ]
    },
    {
      "cell_type": "markdown",
      "metadata": {
        "id": "hySGBUuVgawS"
      },
      "source": [
        "直接用法"
      ]
    },
    {
      "cell_type": "code",
      "metadata": {
        "colab": {
          "base_uri": "https://localhost:8080/"
        },
        "id": "xKZqdC0jfY-0",
        "outputId": "48b2e7f8-13cc-4099-c042-9a945d22aecf"
      },
      "source": [
        "(lambda x,y : x-y)(40,12)"
      ],
      "execution_count": 39,
      "outputs": [
        {
          "output_type": "execute_result",
          "data": {
            "text/plain": [
              "28"
            ]
          },
          "metadata": {
            "tags": []
          },
          "execution_count": 39
        }
      ]
    },
    {
      "cell_type": "markdown",
      "metadata": {
        "id": "hv47SFTXhR-0"
      },
      "source": [
        "print用法"
      ]
    },
    {
      "cell_type": "code",
      "metadata": {
        "colab": {
          "base_uri": "https://localhost:8080/"
        },
        "id": "vXVTvJy5fZA1",
        "outputId": "cd2d4c65-3a94-45e0-c9e5-8bc403d8ac0f"
      },
      "source": [
        "name = 'NAME'\n",
        "lambda name : print(name)"
      ],
      "execution_count": 40,
      "outputs": [
        {
          "output_type": "execute_result",
          "data": {
            "text/plain": [
              "<function __main__.<lambda>>"
            ]
          },
          "metadata": {
            "tags": []
          },
          "execution_count": 40
        }
      ]
    },
    {
      "cell_type": "code",
      "metadata": {
        "colab": {
          "base_uri": "https://localhost:8080/"
        },
        "id": "4Kwx7gEXhVWM",
        "outputId": "5804482f-c795-4c34-9d6f-187e928aec46"
      },
      "source": [
        "name = 'NAME'\n",
        "(lambda name : print(name))(name)"
      ],
      "execution_count": 41,
      "outputs": [
        {
          "output_type": "stream",
          "text": [
            "NAME\n"
          ],
          "name": "stdout"
        }
      ]
    },
    {
      "cell_type": "markdown",
      "metadata": {
        "id": "lGYs1m0UhRFI"
      },
      "source": [
        "函式應用"
      ]
    },
    {
      "cell_type": "code",
      "metadata": {
        "id": "T8GgSrOgfZDF"
      },
      "source": [
        "num = [1,2,3,4,5,6,7,8,9,10]"
      ],
      "execution_count": 42,
      "outputs": []
    },
    {
      "cell_type": "code",
      "metadata": {
        "colab": {
          "base_uri": "https://localhost:8080/"
        },
        "id": "TBY59_yYhv7j",
        "outputId": "f17fa78b-eb9e-406d-a230-bd3feb31fbf7"
      },
      "source": [
        "list(filter(lambda x : x <= 5, num))   #filter:在可迭代的物件中,用來依條件過濾"
      ],
      "execution_count": 43,
      "outputs": [
        {
          "output_type": "execute_result",
          "data": {
            "text/plain": [
              "[1, 2, 3, 4, 5]"
            ]
          },
          "metadata": {
            "tags": []
          },
          "execution_count": 43
        }
      ]
    },
    {
      "cell_type": "code",
      "metadata": {
        "colab": {
          "base_uri": "https://localhost:8080/"
        },
        "id": "QKj7peTNh7l8",
        "outputId": "b0382882-01c0-47dd-d86f-d4831a9b38bf"
      },
      "source": [
        "list(map(lambda x : x*2 , num))        #map:在可迭代的物件中,用來依條件選取"
      ],
      "execution_count": 44,
      "outputs": [
        {
          "output_type": "execute_result",
          "data": {
            "text/plain": [
              "[2, 4, 6, 8, 10, 12, 14, 16, 18, 20]"
            ]
          },
          "metadata": {
            "tags": []
          },
          "execution_count": 44
        }
      ]
    },
    {
      "cell_type": "code",
      "metadata": {
        "colab": {
          "base_uri": "https://localhost:8080/"
        },
        "id": "pSlcv98pi-YY",
        "outputId": "61e8e208-6c66-42f9-e190-d88ad62a4313"
      },
      "source": [
        "from functools import reduce\n",
        "reduce(lambda x,y : x+y ,num)          #reduce:在可迭代的物件中,用來重複運算"
      ],
      "execution_count": 45,
      "outputs": [
        {
          "output_type": "execute_result",
          "data": {
            "text/plain": [
              "55"
            ]
          },
          "metadata": {
            "tags": []
          },
          "execution_count": 45
        }
      ]
    },
    {
      "cell_type": "code",
      "metadata": {
        "id": "8H7aomVvi-az"
      },
      "source": [
        "nba = [\n",
        "       ('D.Rose',1),\n",
        "       ('D.Wade',3),\n",
        "       ('K.Leonard',2),\n",
        "       ('K.Bryant',24),\n",
        "       ('M.Jordan',23),\n",
        "       ('D.Lilard',0),\n",
        "       ('L.Doncic',77),\n",
        "       ('N.Jokic',15)\n",
        "]"
      ],
      "execution_count": 46,
      "outputs": []
    },
    {
      "cell_type": "code",
      "metadata": {
        "colab": {
          "base_uri": "https://localhost:8080/"
        },
        "id": "W91J0hlJi9Wo",
        "outputId": "bc91ff19-7b95-40fc-a11b-90463ecb9ac7"
      },
      "source": [
        "type(nba)"
      ],
      "execution_count": 47,
      "outputs": [
        {
          "output_type": "execute_result",
          "data": {
            "text/plain": [
              "list"
            ]
          },
          "metadata": {
            "tags": []
          },
          "execution_count": 47
        }
      ]
    },
    {
      "cell_type": "code",
      "metadata": {
        "colab": {
          "base_uri": "https://localhost:8080/"
        },
        "id": "lbvGz-HqmpMA",
        "outputId": "542c1701-8cc7-4ac8-f7b8-ca7b3af5f1d0"
      },
      "source": [
        "sorted(nba , key = lambda player:player[1])    #照背號排列"
      ],
      "execution_count": 48,
      "outputs": [
        {
          "output_type": "execute_result",
          "data": {
            "text/plain": [
              "[('D.Lilard', 0),\n",
              " ('D.Rose', 1),\n",
              " ('K.Leonard', 2),\n",
              " ('D.Wade', 3),\n",
              " ('N.Jokic', 15),\n",
              " ('M.Jordan', 23),\n",
              " ('K.Bryant', 24),\n",
              " ('L.Doncic', 77)]"
            ]
          },
          "metadata": {
            "tags": []
          },
          "execution_count": 48
        }
      ]
    },
    {
      "cell_type": "code",
      "metadata": {
        "id": "w0ft_hZcnvvJ"
      },
      "source": [
        ""
      ],
      "execution_count": 48,
      "outputs": []
    }
  ]
}