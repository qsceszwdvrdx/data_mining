{
 "cells": [
  {
   "cell_type": "markdown",
   "metadata": {},
   "source": [
    "    Python 列表(list)"
   ]
  },
  {
   "cell_type": "code",
   "execution_count": 13,
   "metadata": {},
   "outputs": [],
   "source": [
    "NBA = [\"Leonard_02\",\"Curry_30\",\"Durant_35\",\"George_13\",\"Wade_3\"]     #str要用“ ”包起來"
   ]
  },
  {
   "cell_type": "code",
   "execution_count": 14,
   "metadata": {},
   "outputs": [
    {
     "name": "stdout",
     "output_type": "stream",
     "text": [
      "['Leonard_02', 'Curry_30', 'Durant_35', 'George_13', 'Wade_3']\n",
      "Leonard_02\n",
      "Durant_35\n",
      "Wade_3\n"
     ]
    }
   ],
   "source": [
    "print(NBA)\n",
    "print(NBA[0])\n",
    "print(NBA[2])\n",
    "print(NBA[-1])"
   ]
  },
  {
   "cell_type": "code",
   "execution_count": 15,
   "metadata": {},
   "outputs": [
    {
     "name": "stdout",
     "output_type": "stream",
     "text": [
      "['Leonard_02', 'Curry_30', 'Durant_35', 'George_13', 'Wade_3', 'Davis_23']\n"
     ]
    }
   ],
   "source": [
    "NBA.append(\"Davis_23\")           #增加新的內容\n",
    "print(NBA)"
   ]
  },
  {
   "cell_type": "code",
   "execution_count": 16,
   "metadata": {},
   "outputs": [
    {
     "name": "stdout",
     "output_type": "stream",
     "text": [
      "['Leonard_02', 'Curry_30', 'Durant_35', 'George_13', 'Davis_23']\n"
     ]
    }
   ],
   "source": [
    "NBA.remove(\"Wade_3\")            #刪除內容\n",
    "print(NBA)"
   ]
  },
  {
   "cell_type": "code",
   "execution_count": 20,
   "metadata": {},
   "outputs": [
    {
     "name": "stdout",
     "output_type": "stream",
     "text": [
      "['Curry_30', 'Durant_35', 'George_13', 'Leonard_02', 'Wade_3']\n"
     ]
    }
   ],
   "source": [
    "NBA = [\"Leonard_02\",\"Curry_30\",\"Durant_35\",\"George_13\",\"Wade_3\"]     \n",
    "NBA.sort()\n",
    "print(NBA)"
   ]
  },
  {
   "cell_type": "code",
   "execution_count": 21,
   "metadata": {},
   "outputs": [
    {
     "name": "stdout",
     "output_type": "stream",
     "text": [
      "['Wade_3', 'George_13', 'Durant_35', 'Curry_30', 'Leonard_02']\n"
     ]
    }
   ],
   "source": [
    "NBA = [\"Leonard_02\",\"Curry_30\",\"Durant_35\",\"George_13\",\"Wade_3\"]     \n",
    "NBA.reverse()\n",
    "print(NBA)"
   ]
  },
  {
   "cell_type": "markdown",
   "metadata": {},
   "source": [
    "    基本語法 資料參考：http://tw.gitbook.net/python/index.html"
   ]
  }
 ],
 "metadata": {
  "kernelspec": {
   "display_name": "Python 3",
   "language": "python",
   "name": "python3"
  },
  "language_info": {
   "codemirror_mode": {
    "name": "ipython",
    "version": 3
   },
   "file_extension": ".py",
   "mimetype": "text/x-python",
   "name": "python",
   "nbconvert_exporter": "python",
   "pygments_lexer": "ipython3",
   "version": "3.7.1"
  }
 },
 "nbformat": 4,
 "nbformat_minor": 2
}
