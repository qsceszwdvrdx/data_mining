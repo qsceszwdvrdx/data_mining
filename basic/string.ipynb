{
 "cells": [
  {
   "cell_type": "markdown",
   "metadata": {},
   "source": [
    "    字串使用"
   ]
  },
  {
   "cell_type": "code",
   "execution_count": 30,
   "metadata": {},
   "outputs": [
    {
     "name": "stdout",
     "output_type": "stream",
     "text": [
      "I am a student.\n",
      "I\n",
      " \n",
      "m\n",
      ".\n"
     ]
    }
   ],
   "source": [
    "OWO = \"I am a student.\"\n",
    "print(OWO)\n",
    "print(OWO[0])                   #字串是從0開始計算\n",
    "print(OWO[1])                   #空白也算在字串裡\n",
    "print(OWO[3])\n",
    "print(OWO[-1])"
   ]
  },
  {
   "cell_type": "code",
   "execution_count": 28,
   "metadata": {},
   "outputs": [
    {
     "name": "stdout",
     "output_type": "stream",
     "text": [
      "I am \n",
      "am a \n",
      "am a student.\n",
      "I am a student\n"
     ]
    }
   ],
   "source": [
    "OWO = \"I am a student.\"\n",
    "print(OWO[0:5])                 #顯示特定範圍\n",
    "print(OWO[2:7])\n",
    "print(OWO[2:])\n",
    "print(OWO[:-1])         "
   ]
  },
  {
   "cell_type": "code",
   "execution_count": 33,
   "metadata": {},
   "outputs": [
    {
     "name": "stdout",
     "output_type": "stream",
     "text": [
      "I am a reader.\n"
     ]
    }
   ],
   "source": [
    "OWO = \"I am a student.\"        #更改內容\n",
    "print(OWO.replace(\"student\",\"reader\"))"
   ]
  },
  {
   "cell_type": "code",
   "execution_count": 32,
   "metadata": {},
   "outputs": [
    {
     "name": "stdout",
     "output_type": "stream",
     "text": [
      "I AM A STUDENT.\n",
      "i am a student.\n"
     ]
    }
   ],
   "source": [
    "OWO = \"I am a student.\"         #大小寫\n",
    "print(OWO.upper())\n",
    "print(OWO.lower())"
   ]
  },
  {
   "cell_type": "code",
   "execution_count": 38,
   "metadata": {},
   "outputs": [],
   "source": [
    "S = \"He is tall.\"\n",
    "T = \"tall\""
   ]
  },
  {
   "cell_type": "code",
   "execution_count": 39,
   "metadata": {},
   "outputs": [
    {
     "name": "stdout",
     "output_type": "stream",
     "text": [
      "T in S\n"
     ]
    }
   ],
   "source": [
    "if T == S:\n",
    "    print(\"S=T\")              #觀察Ｓ跟Ｔ的關係\n",
    "if T in S:\n",
    "    print(\"T in S\")"
   ]
  },
  {
   "cell_type": "code",
   "execution_count": 45,
   "metadata": {},
   "outputs": [
    {
     "name": "stdout",
     "output_type": "stream",
     "text": [
      "I live in country.\n",
      "I love nature.\n"
     ]
    }
   ],
   "source": [
    "N=\"I live in country.\\nI love nature.\"\n",
    "print(N)"
   ]
  },
  {
   "cell_type": "markdown",
   "metadata": {},
   "source": [
    "    基本語法 資料參考：http://tw.gitbook.net/python/index.html"
   ]
  }
 ],
 "metadata": {
  "kernelspec": {
   "display_name": "Python 3",
   "language": "python",
   "name": "python3"
  },
  "language_info": {
   "codemirror_mode": {
    "name": "ipython",
    "version": 3
   },
   "file_extension": ".py",
   "mimetype": "text/x-python",
   "name": "python",
   "nbconvert_exporter": "python",
   "pygments_lexer": "ipython3",
   "version": "3.7.1"
  }
 },
 "nbformat": 4,
 "nbformat_minor": 2
}
