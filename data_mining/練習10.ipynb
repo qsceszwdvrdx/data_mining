{
 "cells": [
  {
   "cell_type": "code",
   "execution_count": 126,
   "id": "81e07e5b-e156-4463-a440-d3db6d8830c1",
   "metadata": {},
   "outputs": [],
   "source": [
    "import numpy as np\n",
    "import pandas as pd\n",
    "import statsmodels.api as sm\n",
    "import matplotlib.pyplot as plt\n",
    "from sklearn.linear_model import LinearRegression\n",
    "from sklearn.model_selection import train_test_split"
   ]
  },
  {
   "cell_type": "code",
   "execution_count": 127,
   "id": "88d01c6c-f294-4026-81e5-5314cde2cf8a",
   "metadata": {},
   "outputs": [],
   "source": [
    "sigle = pd.read_csv('/Users/xieqingyao/Desktop/regression/test.csv')\n",
    "multiple = pd.read_csv('/Users/xieqingyao/Desktop/regression/insurance.csv')"
   ]
  },
  {
   "cell_type": "markdown",
   "id": "b70740d7-91e9-4ca2-a8a5-828e28edd6e7",
   "metadata": {},
   "source": [
    "### object > number"
   ]
  },
  {
   "cell_type": "code",
   "execution_count": 128,
   "id": "f75b29b5-ffa5-4923-813f-0acc0da0a5b3",
   "metadata": {},
   "outputs": [],
   "source": [
    "multiple['sex'].replace({'female':0,'male':1},inplace=True)\n",
    "multiple['smoker'].replace({'no':0,'yes':1},inplace=True)"
   ]
  },
  {
   "cell_type": "code",
   "execution_count": 129,
   "id": "5be640d0-2c99-4d9d-afb6-2b4a7d03b81c",
   "metadata": {},
   "outputs": [],
   "source": [
    "region = pd.get_dummies(multiple['region'])"
   ]
  },
  {
   "cell_type": "code",
   "execution_count": 130,
   "id": "c0603a29-1069-4bd8-be04-0e2220afd66b",
   "metadata": {},
   "outputs": [],
   "source": [
    "multiple = pd.concat([region,multiple],axis=1)"
   ]
  },
  {
   "cell_type": "code",
   "execution_count": 131,
   "id": "5c0c484d-7e2e-4304-b76c-d085d6467be5",
   "metadata": {},
   "outputs": [],
   "source": [
    "multiple = multiple.drop(['region','northeast'],axis=1)"
   ]
  },
  {
   "cell_type": "markdown",
   "id": "f21dbfcf-bc1b-41df-83b5-388e5a0c112b",
   "metadata": {},
   "source": [
    "### split"
   ]
  },
  {
   "cell_type": "code",
   "execution_count": 132,
   "id": "cf773c79-9d87-4564-80da-d61cf2bae8a5",
   "metadata": {},
   "outputs": [],
   "source": [
    "X1 = sigle.iloc[:,:-1].values\n",
    "y1 = sigle.iloc[:,-1].values"
   ]
  },
  {
   "cell_type": "code",
   "execution_count": 133,
   "id": "1f2108f4-bf56-4b2a-9f08-5165d883db2d",
   "metadata": {},
   "outputs": [],
   "source": [
    "X2 = multiple.iloc[:,:-1].values\n",
    "y2 = multiple.iloc[:,-1].values"
   ]
  },
  {
   "cell_type": "code",
   "execution_count": 134,
   "id": "35235fc8-1afa-4e99-832c-49b9a36569f8",
   "metadata": {},
   "outputs": [],
   "source": [
    "X1_train, X1_test, y1_train, y1_test = train_test_split(X1,y1,test_size = 0.2,random_state=0)\n",
    "X2_train, X2_test, y2_train, y2_test = train_test_split(X2,y2,test_size = 0.2,random_state=0)"
   ]
  },
  {
   "cell_type": "markdown",
   "id": "3198adcd-67f4-4853-b308-6a7caad80c37",
   "metadata": {},
   "source": [
    "## 1 feature"
   ]
  },
  {
   "cell_type": "code",
   "execution_count": 135,
   "id": "3b239abd-2a79-4f74-9c80-cb1ae87104d9",
   "metadata": {},
   "outputs": [
    {
     "data": {
      "text/plain": [
       "LinearRegression()"
      ]
     },
     "execution_count": 135,
     "metadata": {},
     "output_type": "execute_result"
    }
   ],
   "source": [
    "reg = LinearRegression()\n",
    "reg.fit(X1_train,y1_train)"
   ]
  },
  {
   "cell_type": "code",
   "execution_count": 136,
   "id": "1886108b-4534-4a14-9860-688208167c30",
   "metadata": {},
   "outputs": [],
   "source": [
    "y1_pred = reg.predict(X1_test)"
   ]
  },
  {
   "cell_type": "markdown",
   "id": "81055c92-5bb8-4cfd-af0c-ae1e7310d439",
   "metadata": {},
   "source": [
    "畫圖"
   ]
  },
  {
   "cell_type": "code",
   "execution_count": 137,
   "id": "67427343-c287-44f7-b8f4-4fded6df7e56",
   "metadata": {},
   "outputs": [
    {
     "data": {
      "image/png": "[encoded data removed]",
      "text/plain": [
       "<Figure size 432x288 with 1 Axes>"
      ]
     },
     "metadata": {
      "needs_background": "light"
     },
     "output_type": "display_data"
    }
   ],
   "source": [
    "plt.scatter(X1_train,y1_train,color='red')\n",
    "plt.plot(X1_train,reg.predict(X1_train),color='blue')\n",
    "plt.show()"
   ]
  },
  {
   "cell_type": "code",
   "execution_count": 138,
   "id": "b879d1f9-3b3e-4b53-b38c-5c76addbaa6d",
   "metadata": {},
   "outputs": [
    {
     "data": {
      "image/png": "[encoded data removed]",
      "text/plain": [
       "<Figure size 432x288 with 1 Axes>"
      ]
     },
     "metadata": {
      "needs_background": "light"
     },
     "output_type": "display_data"
    }
   ],
   "source": [
    "plt.scatter(X1_test,y1_test,color='red')\n",
    "plt.plot(X1_test,reg.predict(X1_test),color='blue')\n",
    "plt.show()"
   ]
  },
  {
   "cell_type": "code",
   "execution_count": 139,
   "id": "34c4e479-0bb5-48f5-b8bf-206fb1456d85",
   "metadata": {},
   "outputs": [
    {
     "name": "stdout",
     "output_type": "stream",
     "text": [
      "[1.0144497]\n",
      "-0.5333242119059278\n"
     ]
    }
   ],
   "source": [
    "print(reg.coef_)\n",
    "print(reg.intercept_)"
   ]
  },
  {
   "cell_type": "markdown",
   "id": "c0164219-7690-49b9-ac45-0f041561ba62",
   "metadata": {
    "tags": []
   },
   "source": [
    "結果 >>>  y = 1.0144497x -0.5333242119059278"
   ]
  },
  {
   "cell_type": "markdown",
   "id": "5cc091c8-9803-4bd6-8527-d8748941d3f1",
   "metadata": {
    "tags": []
   },
   "source": [
    "## n features"
   ]
  },
  {
   "cell_type": "code",
   "execution_count": 140,
   "id": "b8b6c0d7-714c-420e-bb3f-2a75fd727e32",
   "metadata": {},
   "outputs": [
    {
     "data": {
      "text/plain": [
       "LinearRegression()"
      ]
     },
     "execution_count": 140,
     "metadata": {},
     "output_type": "execute_result"
    }
   ],
   "source": [
    "reg = LinearRegression()\n",
    "reg.fit(X2_train,y2_train)"
   ]
  },
  {
   "cell_type": "code",
   "execution_count": 141,
   "id": "cd20c468-06f8-418f-a5f7-bc330ae1fc1f",
   "metadata": {},
   "outputs": [
    {
     "name": "stdout",
     "output_type": "stream",
     "text": [
      "[-2.60132732e+02 -9.13278834e+02 -7.61948706e+02  2.53700500e+02\n",
      " -1.54637279e+01  3.35962814e+02  4.36910121e+02  2.36050173e+04]\n",
      "-11828.073537474766\n"
     ]
    }
   ],
   "source": [
    "print(reg.coef_)\n",
    "print(reg.intercept_)"
   ]
  },
  {
   "cell_type": "markdown",
   "id": "eb5b3d53-42d8-48c5-807f-ecca1b054f90",
   "metadata": {},
   "source": [
    "結果 >>> y =  -26*northwest - 91.3*southeast - 76.2*southwest + 25.4*age - 15.5*sex + 33.6*bmi + 43.7*children + 23.6*smoker - 11828.073537474766"
   ]
  },
  {
   "cell_type": "code",
   "execution_count": 142,
   "id": "0043bf80-8727-4be6-9b5a-68f8d7cbce3d",
   "metadata": {},
   "outputs": [],
   "source": [
    "# import statsmodels.api as sm\n",
    "# X_opt = np.array(X2_train[:,[0,1,2,3,4,5,6,7]],dtype=float)\n",
    "# reg_ols = sm.OLS(endog = y2_train,exog = X_opt).fit()\n",
    "# reg_ols.summary()"
   ]
  },
  {
   "cell_type": "code",
   "execution_count": 143,
   "id": "f444b065-eed2-4a48-996b-cc944a9aeb00",
   "metadata": {},
   "outputs": [],
   "source": [
    "def back(x,sl):\n",
    "    col = []\n",
    "    numvars = len(x[0])\n",
    "    remain = [i for i in range(0,numvars)]\n",
    "    for i in range(0,numvars):\n",
    "        reg_ols = sm.OLS(y2_train,x).fit()\n",
    "        maxvar = max(reg_ols.pvalues).astype(float)    #目前最高的 p-value\n",
    "        if maxvar > sl:\n",
    "            for j in range(0,numvars - i):\n",
    "                if reg_ols.pvalues[j].astype(float) == maxvar:\n",
    "                    x = np.delete(x,j,1)\n",
    "                    remain.pop(j)\n",
    "    for i in remain:\n",
    "        col.append(multiple.columns[i])\n",
    "    \n",
    "    return reg_ols.summary(),remain,col\n",
    "    "
   ]
  },
  {
   "cell_type": "code",
   "execution_count": 144,
   "id": "95807d60-a1b5-4436-b0aa-837373016677",
   "metadata": {},
   "outputs": [],
   "source": [
    "SL = 0.05\n",
    "X_opt = np.array(X2_train[:,0:len(X2_train[0])],dtype=float)"
   ]
  },
  {
   "cell_type": "code",
   "execution_count": 145,
   "id": "94c8d903-70e8-4fc8-ad1e-762c480a5c76",
   "metadata": {},
   "outputs": [
    {
     "data": {
      "text/plain": [
       "(<class 'statsmodels.iolib.summary.Summary'>\n",
       " \"\"\"\n",
       "                                  OLS Regression Results                                \n",
       " =======================================================================================\n",
       " Dep. Variable:                      y   R-squared (uncentered):                   0.868\n",
       " Model:                            OLS   Adj. R-squared (uncentered):              0.868\n",
       " Method:                 Least Squares   F-statistic:                              1170.\n",
       " Date:                Wed, 01 Dec 2021   Prob (F-statistic):                        0.00\n",
       " Time:                        21:44:59   Log-Likelihood:                         -10907.\n",
       " No. Observations:                1070   AIC:                                  2.183e+04\n",
       " Df Residuals:                    1064   BIC:                                  2.186e+04\n",
       " Df Model:                           6                                                  \n",
       " Covariance Type:            nonrobust                                                  \n",
       " ==============================================================================\n",
       "                  coef    std err          t      P>|t|      [0.025      0.975]\n",
       " ------------------------------------------------------------------------------\n",
       " x1         -1819.1948    556.362     -3.270      0.001   -2910.886    -727.503\n",
       " x2         -1225.3187    577.361     -2.122      0.034   -2358.215     -92.423\n",
       " x3         -1881.6491    557.249     -3.377      0.001   -2975.081    -788.218\n",
       " x4           201.4205     13.087     15.391      0.000     175.741     227.100\n",
       " x5            71.8691     20.536      3.500      0.000      31.573     112.165\n",
       " x6          2.296e+04    489.038     46.951      0.000     2.2e+04    2.39e+04\n",
       " ==============================================================================\n",
       " Omnibus:                      245.154   Durbin-Watson:                   2.000\n",
       " Prob(Omnibus):                  0.000   Jarque-Bera (JB):              587.246\n",
       " Skew:                           1.224   Prob(JB):                    3.03e-128\n",
       " Kurtosis:                       5.679   Cond. No.                         207.\n",
       " ==============================================================================\n",
       " \n",
       " Notes:\n",
       " [1] R² is computed without centering (uncentered) since the model does not contain a constant.\n",
       " [2] Standard Errors assume that the covariance matrix of the errors is correctly specified.\n",
       " \"\"\",\n",
       " [0, 1, 2, 3, 5, 7],\n",
       " ['northwest', 'southeast', 'southwest', 'age', 'bmi', 'smoker'])"
      ]
     },
     "execution_count": 145,
     "metadata": {},
     "output_type": "execute_result"
    }
   ],
   "source": [
    "back(X_opt,SL)"
   ]
  },
  {
   "cell_type": "code",
   "execution_count": null,
   "id": "f321e2b7-af20-48ba-ad80-02c28ac4b30c",
   "metadata": {},
   "outputs": [],
   "source": []
  }
 ],
 "metadata": {
  "kernelspec": {
   "display_name": "Python 3 (ipykernel)",
   "language": "python",
   "name": "python3"
  },
  "language_info": {
   "codemirror_mode": {
    "name": "ipython",
    "version": 3
   },
   "file_extension": ".py",
   "mimetype": "text/x-python",
   "name": "python",
   "nbconvert_exporter": "python",
   "pygments_lexer": "ipython3",
   "version": "3.7.11"
  }
 },
 "nbformat": 4,
 "nbformat_minor": 5
}
