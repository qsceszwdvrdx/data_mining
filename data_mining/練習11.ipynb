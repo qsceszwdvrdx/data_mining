{
 "cells": [
  {
   "cell_type": "code",
   "execution_count": 66,
   "id": "cbc2d3b2-0be6-4367-87d8-d0d25013bea0",
   "metadata": {},
   "outputs": [],
   "source": [
    "import numpy as np\n",
    "import pandas as pd\n",
    "import matplotlib.pyplot as plt"
   ]
  },
  {
   "cell_type": "code",
   "execution_count": 67,
   "id": "9b1b73f9-7b57-4a3d-a4d9-d393d1c36f80",
   "metadata": {},
   "outputs": [],
   "source": [
    "from sklearn.svm import SVC\n",
    "from sklearn.preprocessing import StandardScaler\n",
    "from sklearn.neighbors import KNeighborsClassifier\n",
    "from sklearn.linear_model import LogisticRegression\n",
    "from sklearn.model_selection import cross_val_score \n",
    "from sklearn.model_selection import train_test_split\n",
    "from sklearn.metrics import confusion_matrix, accuracy_score, ConfusionMatrixDisplay "
   ]
  },
  {
   "cell_type": "code",
   "execution_count": 68,
   "id": "b73c17de-3d14-4a00-bc3e-155479c8f955",
   "metadata": {},
   "outputs": [],
   "source": [
    "data = pd.read_csv('classification.csv') #from kaggle"
   ]
  },
  {
   "cell_type": "code",
   "execution_count": 69,
   "id": "9e41c04d-326c-4f8a-b0b2-a84ec6860f95",
   "metadata": {},
   "outputs": [],
   "source": [
    "# data.head(3) "
   ]
  },
  {
   "cell_type": "code",
   "execution_count": 70,
   "id": "8ef86ca9-89e0-4c93-b898-b1ea5aacf12e",
   "metadata": {},
   "outputs": [],
   "source": [
    "X = data.iloc[:,:-1].values\n",
    "y = data.iloc[:,-1].values"
   ]
  },
  {
   "cell_type": "markdown",
   "id": "395c5a08-fcd7-45bb-b445-4d63a05a7cd9",
   "metadata": {},
   "source": [
    "## split"
   ]
  },
  {
   "cell_type": "code",
   "execution_count": 71,
   "id": "624d40c4-f9bb-4123-b0ca-32505f9333a9",
   "metadata": {},
   "outputs": [],
   "source": [
    "X_train, X_test, y_train, y_test = train_test_split(X, y, test_size = 0.2 , random_state = 0)"
   ]
  },
  {
   "cell_type": "code",
   "execution_count": 72,
   "id": "0fd3a1bd-71ea-4bea-b1b7-891beefb6065",
   "metadata": {},
   "outputs": [],
   "source": [
    "sc = StandardScaler()\n",
    "X_train = sc.fit_transform(X_train)\n",
    "X_test = sc.transform(X_test)"
   ]
  },
  {
   "cell_type": "code",
   "execution_count": 73,
   "id": "96e244ce-baf9-4943-9e4f-27a35ca44e97",
   "metadata": {},
   "outputs": [],
   "source": [
    "situation=['fail','success']"
   ]
  },
  {
   "cell_type": "markdown",
   "id": "44c25cb2-4e93-4c87-a6a5-7ae807f8af80",
   "metadata": {
    "tags": []
   },
   "source": [
    "## logistic regression"
   ]
  },
  {
   "cell_type": "code",
   "execution_count": 74,
   "id": "d29d24ef-495f-42f2-bc78-2972c9e05ebc",
   "metadata": {},
   "outputs": [],
   "source": [
    "logit = LogisticRegression(random_state = 0)\n",
    "logit.fit(X_train,y_train)\n",
    "y_pred = logit.predict(X_test)"
   ]
  },
  {
   "cell_type": "code",
   "execution_count": 75,
   "id": "e15d7b04-31d8-404e-a494-d711f4ed732a",
   "metadata": {},
   "outputs": [
    {
     "name": "stdout",
     "output_type": "stream",
     "text": [
      "0.8666666666666667\n"
     ]
    },
    {
     "data": {
      "image/png": "[encoded data removed]",
      "text/plain": [
       "<Figure size 432x288 with 2 Axes>"
      ]
     },
     "metadata": {
      "needs_background": "light"
     },
     "output_type": "display_data"
    }
   ],
   "source": [
    "# print(confusion_matrix(y_test,y_pred))\n",
    "print(accuracy_score(y_test,y_pred))\n",
    "disp = ConfusionMatrixDisplay(confusion_matrix(y_test,y_pred),display_labels=situation)\n",
    "disp.plot()\n",
    "plt.show()"
   ]
  },
  {
   "cell_type": "markdown",
   "id": "20bce361-ac14-4f7a-b677-f2c2e11736fb",
   "metadata": {},
   "source": [
    "k-fold"
   ]
  },
  {
   "cell_type": "code",
   "execution_count": 76,
   "id": "9e598503-932f-4bd6-ac1d-65b6bb75a555",
   "metadata": {
    "tags": []
   },
   "outputs": [
    {
     "name": "stdout",
     "output_type": "stream",
     "text": [
      "[0.93333333 0.8        0.9        0.8        0.76666667 0.9\n",
      " 0.83333333 0.93103448 0.96551724 0.86206897]\n",
      "\n",
      "k-fold mean score : 86.91954022988506\n",
      "k-fold standard deviation : 6.36698612791161\n"
     ]
    }
   ],
   "source": [
    "right = cross_val_score(estimator = logit, X=X, y=y, cv=10)\n",
    "print(right)\n",
    "print()\n",
    "print('k-fold mean score : '+str(right.mean()*100))\n",
    "print('k-fold standard deviation : '+str(right.std()*100))"
   ]
  },
  {
   "cell_type": "code",
   "execution_count": null,
   "id": "27eae1a4-aaae-43b9-880c-4a6de30af943",
   "metadata": {},
   "outputs": [],
   "source": []
  },
  {
   "cell_type": "markdown",
   "id": "bcca14cd-3f66-4743-8556-74381cc91d56",
   "metadata": {
    "tags": []
   },
   "source": [
    "## knn"
   ]
  },
  {
   "cell_type": "code",
   "execution_count": 77,
   "id": "3e36a0e3-7cf3-4aca-9164-ba5bcd552183",
   "metadata": {},
   "outputs": [],
   "source": [
    "knn = KNeighborsClassifier(n_neighbors = 5, metric='minkowski',p=2)\n",
    "knn.fit(X_train,y_train)\n",
    "y_pred = knn.predict(X_test)"
   ]
  },
  {
   "cell_type": "code",
   "execution_count": 78,
   "id": "be364134-c6ac-49d2-8259-17dd57385d14",
   "metadata": {},
   "outputs": [
    {
     "name": "stdout",
     "output_type": "stream",
     "text": [
      "0.9166666666666666\n"
     ]
    },
    {
     "data": {
      "image/png": "[encoded data removed]",
      "text/plain": [
       "<Figure size 432x288 with 2 Axes>"
      ]
     },
     "metadata": {
      "needs_background": "light"
     },
     "output_type": "display_data"
    }
   ],
   "source": [
    "# print(confusion_matrix(y_test,y_pred))\n",
    "print(accuracy_score(y_test,y_pred))\n",
    "disp = ConfusionMatrixDisplay(confusion_matrix(y_test,y_pred),display_labels=situation)\n",
    "disp.plot()\n",
    "plt.show()"
   ]
  },
  {
   "cell_type": "markdown",
   "id": "af3e802d-c300-45e5-930d-92ff74b8d09e",
   "metadata": {},
   "source": [
    "k-flod"
   ]
  },
  {
   "cell_type": "code",
   "execution_count": 79,
   "id": "4274a30f-0c7b-44b2-b925-ff0167f5198a",
   "metadata": {},
   "outputs": [
    {
     "name": "stdout",
     "output_type": "stream",
     "text": [
      "[0.96666667 0.93333333 0.96666667 0.86666667 0.83333333 1.\n",
      " 0.93333333 1.         0.93103448 0.93103448]\n",
      "\n",
      "k-fold mean score : 93.62068965517241\n",
      "k-fold standard deviation : 5.048123545218002\n"
     ]
    }
   ],
   "source": [
    "right = cross_val_score(estimator = knn, X=X, y=y, cv=10)\n",
    "print(right)\n",
    "print()\n",
    "print('k-fold mean score : '+str(right.mean()*100))\n",
    "print('k-fold standard deviation : '+str(right.std()*100))"
   ]
  },
  {
   "cell_type": "code",
   "execution_count": null,
   "id": "b10172d1-7ce2-40d7-a007-52a92f0f0fff",
   "metadata": {},
   "outputs": [],
   "source": []
  },
  {
   "cell_type": "markdown",
   "id": "27bdb8f4-7d90-4086-a474-74cc2f6dedfb",
   "metadata": {
    "tags": []
   },
   "source": [
    "## SVM"
   ]
  },
  {
   "cell_type": "code",
   "execution_count": 80,
   "id": "cfbc6188-31c0-4732-a605-b63e2ea9bc26",
   "metadata": {},
   "outputs": [],
   "source": [
    "svm = SVC(kernel='linear',random_state=0)\n",
    "svm.fit(X_train,y_train)\n",
    "y_pred = svm.predict(X_test)"
   ]
  },
  {
   "cell_type": "code",
   "execution_count": 81,
   "id": "887507c5-6494-4607-bbdc-ead98fa3a91c",
   "metadata": {},
   "outputs": [
    {
     "name": "stdout",
     "output_type": "stream",
     "text": [
      "0.8666666666666667\n"
     ]
    },
    {
     "data": {
      "image/png": "[encoded data removed]",
      "text/plain": [
       "<Figure size 432x288 with 2 Axes>"
      ]
     },
     "metadata": {
      "needs_background": "light"
     },
     "output_type": "display_data"
    }
   ],
   "source": [
    "# print(confusion_matrix(y_test,y_pred))\n",
    "print(accuracy_score(y_test,y_pred))\n",
    "disp = ConfusionMatrixDisplay(confusion_matrix(y_test,y_pred),display_labels=situation)\n",
    "disp.plot()\n",
    "plt.show()"
   ]
  },
  {
   "cell_type": "markdown",
   "id": "1cdfb1b4-4c60-48a7-ae0e-6174790428db",
   "metadata": {},
   "source": [
    "k-fold"
   ]
  },
  {
   "cell_type": "code",
   "execution_count": 82,
   "id": "f3d65824-158e-4767-83dd-9c75366193c2",
   "metadata": {},
   "outputs": [
    {
     "name": "stdout",
     "output_type": "stream",
     "text": [
      "[0.86666667 0.83333333 0.93333333 0.8        0.83333333 0.9\n",
      " 0.83333333 0.93103448 0.96551724 0.86206897]\n",
      "\n",
      "k-fold mean score : 87.58620689655172\n",
      "k-fold standard deviation : 5.14038615517193\n"
     ]
    }
   ],
   "source": [
    "right = cross_val_score(estimator = svm, X=X, y=y, cv=10)\n",
    "print(right)\n",
    "print()\n",
    "print('k-fold mean score : '+str(right.mean()*100))\n",
    "print('k-fold standard deviation : '+str(right.std()*100))"
   ]
  },
  {
   "cell_type": "code",
   "execution_count": null,
   "id": "c481a791-301e-4b0d-bc99-dc8474365b15",
   "metadata": {},
   "outputs": [],
   "source": []
  }
 ],
 "metadata": {
  "kernelspec": {
   "display_name": "Python 3 (ipykernel)",
   "language": "python",
   "name": "python3"
  },
  "language_info": {
   "codemirror_mode": {
    "name": "ipython",
    "version": 3
   },
   "file_extension": ".py",
   "mimetype": "text/x-python",
   "name": "python",
   "nbconvert_exporter": "python",
   "pygments_lexer": "ipython3",
   "version": "3.7.11"
  }
 },
 "nbformat": 4,
 "nbformat_minor": 5
}
