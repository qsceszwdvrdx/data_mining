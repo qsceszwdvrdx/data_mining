{
 "cells": [
  {
   "cell_type": "markdown",
   "metadata": {
    "colab_type": "text",
    "id": "qtLLq544YCsY"
   },
   "source": [
    "# Python Crash Course Exercises 2 - List, Dictionary, and Set\n",
    "\n",
    "This is an exercise to test your understanding of Python Basics."
   ]
  },
  {
   "cell_type": "markdown",
   "metadata": {
    "colab_type": "text",
    "id": "RQbdEZTXYCsb"
   },
   "source": [
    "## Exercises\n",
    "\n",
    "Answer the questions or complete the tasks outlined in bold below, use the specific method described if applicable."
   ]
  },
  {
   "cell_type": "markdown",
   "metadata": {
    "colab_type": "text",
    "id": "Yz-pxWUY9PfB"
   },
   "source": [
    "## List"
   ]
  },
  {
   "cell_type": "markdown",
   "metadata": {
    "colab_type": "text",
    "id": "g4EXEsa6YCse"
   },
   "source": [
    "1. Given this nested list, use indexing to grab the word \"hello\""
   ]
  },
  {
   "cell_type": "code",
   "execution_count": 2,
   "metadata": {
    "colab": {},
    "colab_type": "code",
    "id": "9ipJIazSYCsg"
   },
   "outputs": [],
   "source": [
    "lst = [1,2,[3,4],[5,[100,200,['hello']],23,11],1,7]"
   ]
  },
  {
   "cell_type": "code",
   "execution_count": 4,
   "metadata": {
    "colab": {},
    "colab_type": "code",
    "id": "7XcCcBtPYCsn",
    "outputId": "6640018a-5b58-4373-b1d2-8073d2f1bab7"
   },
   "outputs": [
    {
     "data": {
      "text/plain": [
       "'hello'"
      ]
     },
     "execution_count": 4,
     "metadata": {},
     "output_type": "execute_result"
    }
   ],
   "source": [
    "lst[3][1][2][0]"
   ]
  },
  {
   "cell_type": "markdown",
   "metadata": {
    "colab_type": "text",
    "id": "WnFhxYZaYCss"
   },
   "source": [
    "2. Please creat a student list with John, Mary, Alex, Bob, Charles, Lucas, Kenny, Keven, Tiyia and Steve."
   ]
  },
  {
   "cell_type": "code",
   "execution_count": 5,
   "metadata": {
    "colab": {},
    "colab_type": "code",
    "id": "IpfW1a0wYCst"
   },
   "outputs": [],
   "source": [
    "student = ['John','Mary','Alex','Bob','Charles','Lucas','Kenny','Keven','Tiyia','Steve']"
   ]
  },
  {
   "cell_type": "markdown",
   "metadata": {
    "colab_type": "text",
    "id": "-OEVhCk0YCsx"
   },
   "source": [
    "3. Please indicat how many students in this list."
   ]
  },
  {
   "cell_type": "code",
   "execution_count": 6,
   "metadata": {
    "colab": {},
    "colab_type": "code",
    "id": "yTIKrQgTYCsy"
   },
   "outputs": [
    {
     "data": {
      "text/plain": [
       "10"
      ]
     },
     "execution_count": 6,
     "metadata": {},
     "output_type": "execute_result"
    }
   ],
   "source": [
    "len(student)"
   ]
  },
  {
   "cell_type": "markdown",
   "metadata": {
    "colab_type": "text",
    "id": "XnbtpxJ4YCs2"
   },
   "source": [
    "4. Which student is the last one of this list?(indexing)"
   ]
  },
  {
   "cell_type": "code",
   "execution_count": 7,
   "metadata": {
    "colab": {},
    "colab_type": "code",
    "id": "zwsEPCKYYCs3"
   },
   "outputs": [
    {
     "data": {
      "text/plain": [
       "'Steve'"
      ]
     },
     "execution_count": 7,
     "metadata": {},
     "output_type": "execute_result"
    }
   ],
   "source": [
    "student[-1]"
   ]
  },
  {
   "cell_type": "markdown",
   "metadata": {
    "colab_type": "text",
    "id": "ARKK6GhoYCs8"
   },
   "source": [
    "5. What are those students in the 3rd to 7th positions of this student list?"
   ]
  },
  {
   "cell_type": "code",
   "execution_count": 8,
   "metadata": {
    "colab": {},
    "colab_type": "code",
    "id": "PszJz9mbYCs9"
   },
   "outputs": [
    {
     "data": {
      "text/plain": [
       "['Alex', 'Bob', 'Charles', 'Lucas', 'Kenny']"
      ]
     },
     "execution_count": 8,
     "metadata": {},
     "output_type": "execute_result"
    }
   ],
   "source": [
    "student[2:7]"
   ]
  },
  {
   "cell_type": "markdown",
   "metadata": {
    "colab_type": "text",
    "id": "scezoJuAYCtA"
   },
   "source": [
    "6. Please replace the 8th student with Dora and print the updated list"
   ]
  },
  {
   "cell_type": "code",
   "execution_count": 9,
   "metadata": {
    "colab": {},
    "colab_type": "code",
    "id": "NoCQJ2gpYCtD"
   },
   "outputs": [
    {
     "data": {
      "text/plain": [
       "['John',\n",
       " 'Mary',\n",
       " 'Alex',\n",
       " 'Bob',\n",
       " 'Charles',\n",
       " 'Lucas',\n",
       " 'Kenny',\n",
       " 'Dora',\n",
       " 'Tiyia',\n",
       " 'Steve']"
      ]
     },
     "execution_count": 9,
     "metadata": {},
     "output_type": "execute_result"
    }
   ],
   "source": [
    "student[7]='Dora'\n",
    "print(student)"
   ]
  },
  {
   "cell_type": "markdown",
   "metadata": {
    "colab_type": "text",
    "id": "hjIU8fnhYCtG"
   },
   "source": [
    "7. Please add Peter to the end of the student list and print the updated list."
   ]
  },
  {
   "cell_type": "code",
   "execution_count": 10,
   "metadata": {
    "colab": {},
    "colab_type": "code",
    "id": "YuFypWIIYCtI"
   },
   "outputs": [
    {
     "name": "stdout",
     "output_type": "stream",
     "text": [
      "['John', 'Mary', 'Alex', 'Bob', 'Charles', 'Lucas', 'Kenny', 'Dora', 'Tiyia', 'Steve', 'Peter']\n"
     ]
    }
   ],
   "source": [
    "student.append('Peter')\n",
    "print(student)"
   ]
  },
  {
   "cell_type": "markdown",
   "metadata": {
    "colab_type": "text",
    "id": "UNSvibGOYCtL"
   },
   "source": [
    "8. Please insert Brandon as the fifth student of the list and print the updated list."
   ]
  },
  {
   "cell_type": "code",
   "execution_count": 11,
   "metadata": {
    "colab": {},
    "colab_type": "code",
    "id": "mWfjxiK4YCtM"
   },
   "outputs": [
    {
     "name": "stdout",
     "output_type": "stream",
     "text": [
      "['John', 'Mary', 'Alex', 'Bob', 'Brandon', 'Charles', 'Lucas', 'Kenny', 'Dora', 'Tiyia', 'Steve', 'Peter']\n"
     ]
    }
   ],
   "source": [
    "student.insert(4,'Brandon')\n",
    "print(student)"
   ]
  },
  {
   "cell_type": "markdown",
   "metadata": {
    "colab_type": "text",
    "id": "afy50BwdYCtP"
   },
   "source": [
    "9. Please remove the 6th student of the list and print the updated list."
   ]
  },
  {
   "cell_type": "code",
   "execution_count": 12,
   "metadata": {
    "colab": {},
    "colab_type": "code",
    "id": "N3BpSuTqYCtQ"
   },
   "outputs": [
    {
     "name": "stdout",
     "output_type": "stream",
     "text": [
      "['John', 'Mary', 'Alex', 'Bob', 'Brandon', 'Lucas', 'Kenny', 'Dora', 'Tiyia', 'Steve', 'Peter']\n"
     ]
    }
   ],
   "source": [
    "student.remove(student[5])\n",
    "print(student)"
   ]
  },
  {
   "cell_type": "markdown",
   "metadata": {
    "colab_type": "text",
    "id": "P3K4XSYkYCtU"
   },
   "source": [
    "10. Please remove 'Kenny' of the the list and print the updated list."
   ]
  },
  {
   "cell_type": "code",
   "execution_count": 13,
   "metadata": {
    "colab": {},
    "colab_type": "code",
    "id": "sYi8zyvkYCtV"
   },
   "outputs": [
    {
     "name": "stdout",
     "output_type": "stream",
     "text": [
      "['John', 'Mary', 'Alex', 'Bob', 'Brandon', 'Lucas', 'Dora', 'Tiyia', 'Steve', 'Peter']\n"
     ]
    }
   ],
   "source": [
    "student.remove('Kenny')\n",
    "print(student)"
   ]
  },
  {
   "cell_type": "markdown",
   "metadata": {
    "colab_type": "text",
    "id": "upPE9RbyYCtY"
   },
   "source": [
    "11. Creat a program that asks the user for his/her birthday in the format\"DD-MM-YYYY\".Then print \"You were born in [Month]\"<br />\n",
    "example:\"You were born in Febuary\""
   ]
  },
  {
   "cell_type": "code",
   "execution_count": 16,
   "metadata": {
    "colab": {},
    "colab_type": "code",
    "id": "hCDJwTZjYCta"
   },
   "outputs": [
    {
     "name": "stdin",
     "output_type": "stream",
     "text": [
      "Input your birthday in format DD-MM-YYYY 12-01-1999\n"
     ]
    },
    {
     "name": "stdout",
     "output_type": "stream",
     "text": [
      "You were born in January\n"
     ]
    }
   ],
   "source": [
    "birthday = input('Input your birthday in format DD-MM-YYYY')\n",
    "month = birthday[3:5]\n",
    "\n",
    "if month == '01':\n",
    "    print('You were born in January')\n",
    "elif month == '02':\n",
    "    print('You were born in February')\n",
    "elif month == '03':\n",
    "    print('You were born in March')\n",
    "elif month == '04':\n",
    "    print('You were born in April')\n",
    "elif month == '05':\n",
    "    print('You were born in May')\n",
    "elif month == '06':\n",
    "    print('You were born in June')\n",
    "elif month == '07':\n",
    "    print('You were born in July')\n",
    "elif month == '08':\n",
    "    print('You were born in August')\n",
    "elif month == '09':\n",
    "    print('You were born in September')\n",
    "elif month == '10':\n",
    "    print('You were born in October')\n",
    "elif month == '11':\n",
    "    print('You were born in November')\n",
    "elif month == '12':\n",
    "    print('You were born in December')\n",
    "else:\n",
    "    print('input error')"
   ]
  },
  {
   "cell_type": "markdown",
   "metadata": {
    "colab_type": "text",
    "id": "kxf9Bn6kYCtd"
   },
   "source": [
    "12. Creat a program with a predefined list of people, John, Mary, and Peter. Ask the user for his/her name, add it to the end of this list and print the updated list."
   ]
  },
  {
   "cell_type": "code",
   "execution_count": 15,
   "metadata": {
    "colab": {},
    "colab_type": "code",
    "id": "jzYGqg4sYCte"
   },
   "outputs": [
    {
     "name": "stdin",
     "output_type": "stream",
     "text": [
      "Input your name >>>  Max\n"
     ]
    },
    {
     "name": "stdout",
     "output_type": "stream",
     "text": [
      "['John', 'Mary', 'Peter', 'Max']\n"
     ]
    }
   ],
   "source": [
    "people = ['John','Mary','Peter']\n",
    "name = input('Input your name >>> ')\n",
    "people.append(name)\n",
    "print(people)"
   ]
  },
  {
   "cell_type": "markdown",
   "metadata": {
    "colab_type": "text",
    "id": "oqwqQJHP9YAM"
   },
   "source": [
    "## Dictionary"
   ]
  },
  {
   "cell_type": "markdown",
   "metadata": {
    "colab_type": "text",
    "id": "zM4VK7Lpt6td"
   },
   "source": [
    "13. Given this nested dictionary grab the word \"hello\". Be prepared, this will be annoying/tricky<br>\n",
    "\n"
   ]
  },
  {
   "cell_type": "code",
   "execution_count": 17,
   "metadata": {
    "colab": {},
    "colab_type": "code",
    "id": "2_rpV8Eat-Q6"
   },
   "outputs": [],
   "source": [
    "d = {'k1':[1,2,3,{'tricky':['oh','man','inception',{'target':[1,2,3,'hello']}]}]}"
   ]
  },
  {
   "cell_type": "code",
   "execution_count": 18,
   "metadata": {
    "colab": {},
    "colab_type": "code",
    "id": "5zOjkFODuN8u"
   },
   "outputs": [
    {
     "data": {
      "text/plain": [
       "'hello'"
      ]
     },
     "execution_count": 18,
     "metadata": {},
     "output_type": "execute_result"
    }
   ],
   "source": [
    "d['k1'][3]['tricky'][3]['target'][3]"
   ]
  },
  {
   "cell_type": "markdown",
   "metadata": {
    "colab_type": "text",
    "id": "tco7jB0D9sPS"
   },
   "source": [
    "14. Please Create a user profile for your new game. Those user profiles will be stored in a dictionary with keys: 'age', 'username', 'weapons', 'is_active'  and 'clan' individually are 22, 'Shogun', ['katana', 'shuriken'], True, nad 'Japan'."
   ]
  },
  {
   "cell_type": "code",
   "execution_count": 20,
   "metadata": {
    "colab": {},
    "colab_type": "code",
    "id": "Qn7nAZDJABcf"
   },
   "outputs": [],
   "source": [
    "profile = {\n",
    "    'age' : 22,\n",
    "    'username' : 'Shogun',\n",
    "    'weapons' : ['katana','shuriken'],\n",
    "    'is_active' : True,\n",
    "    'clan' : 'Japan'\n",
    "}"
   ]
  },
  {
   "cell_type": "markdown",
   "metadata": {
    "colab_type": "text",
    "id": "leITztae9JBO"
   },
   "source": [
    "15. iterate and print all the keys in the above user"
   ]
  },
  {
   "cell_type": "code",
   "execution_count": 22,
   "metadata": {
    "colab": {},
    "colab_type": "code",
    "id": "rMvk7phTAIdd"
   },
   "outputs": [
    {
     "name": "stdout",
     "output_type": "stream",
     "text": [
      "dict_keys(['age', 'username', 'weapons', 'is_active', 'clan'])\n"
     ]
    }
   ],
   "source": [
    "print(profile.keys())"
   ]
  },
  {
   "cell_type": "markdown",
   "metadata": {
    "colab_type": "text",
    "id": "zgyY8SV8AIpA"
   },
   "source": [
    "16. Add a new weapon 'shield' to your user"
   ]
  },
  {
   "cell_type": "code",
   "execution_count": 24,
   "metadata": {
    "colab": {},
    "colab_type": "code",
    "id": "cNF9uPTqATX8"
   },
   "outputs": [],
   "source": [
    "profile['weapons'].append('shield')"
   ]
  },
  {
   "cell_type": "code",
   "execution_count": 26,
   "metadata": {},
   "outputs": [
    {
     "name": "stdout",
     "output_type": "stream",
     "text": [
      "{'age': 22, 'username': 'Shogun', 'weapons': ['katana', 'shuriken', 'shield'], 'is_active': True, 'clan': 'Japan'}\n"
     ]
    }
   ],
   "source": [
    "print(profile)"
   ]
  },
  {
   "cell_type": "markdown",
   "metadata": {
    "colab_type": "text",
    "id": "3yi1LGzqATpH"
   },
   "source": [
    "17. Add a new key to include 'is_banned'. Set it to false"
   ]
  },
  {
   "cell_type": "code",
   "execution_count": 30,
   "metadata": {
    "colab": {},
    "colab_type": "code",
    "id": "1TRhM_7_AfAw"
   },
   "outputs": [
    {
     "name": "stdout",
     "output_type": "stream",
     "text": [
      "{'age': 22, 'username': 'Shogun', 'weapons': ['katana', 'shuriken', 'shield'], 'is_active': True, 'clan': 'Japan', 'is_banned': False}\n"
     ]
    }
   ],
   "source": [
    "profile['is_banned'] = False\n",
    "print(profile)"
   ]
  },
  {
   "cell_type": "markdown",
   "metadata": {
    "colab_type": "text",
    "id": "Fnbva1ytAfOr"
   },
   "source": [
    "18. Ban the user by setting the previous key to True"
   ]
  },
  {
   "cell_type": "code",
   "execution_count": 31,
   "metadata": {
    "colab": {},
    "colab_type": "code",
    "id": "Yh4O10KZAjif"
   },
   "outputs": [
    {
     "name": "stdout",
     "output_type": "stream",
     "text": [
      "{'age': 22, 'username': 'Shogun', 'weapons': ['katana', 'shuriken', 'shield'], 'is_active': True, 'clan': 'Japan', 'is_banned': True}\n"
     ]
    }
   ],
   "source": [
    "profile['is_banned'] = True\n",
    "print(profile)"
   ]
  },
  {
   "cell_type": "markdown",
   "metadata": {
    "colab_type": "text",
    "id": "-KfQJ26NAjqY"
   },
   "source": [
    "19. Create a new user2 my copying the previous user and update the keys age and username with values 100 and Timbo."
   ]
  },
  {
   "cell_type": "markdown",
   "metadata": {
    "colab_type": "text",
    "id": "3d9sLgQYhSlb"
   },
   "source": [
    "## Set\n"
   ]
  },
  {
   "cell_type": "markdown",
   "metadata": {
    "colab_type": "text",
    "id": "LKZl31b4hc6h"
   },
   "source": [
    "20. You are working for the school Principal. We have a database of school students:\n",
    "\n",
    "> school = {'Bobby','Tammy','Jammy','Sally','Danny'}\n",
    "\n",
    "during class, the teachers take attendance and compile it into a list.\n",
    "\n",
    "> attendance_list = ['Jammy', 'Bobby', 'Danny', 'Sally']\n",
    "\n",
    "using what you learned about sets, create a piece of code that the school principal can use to immediately find out who missed class so they can call the parents. \n",
    "(Imagine if the list had 1000s of students. The principal can use the lists generated by the teachers + the school database to use python and make his/her job easier): Find the students that miss class!"
   ]
  },
  {
   "cell_type": "code",
   "execution_count": 32,
   "metadata": {
    "colab": {},
    "colab_type": "code",
    "id": "lcfZm40XYCtl"
   },
   "outputs": [
    {
     "name": "stdout",
     "output_type": "stream",
     "text": [
      "{'Tammy'}\n"
     ]
    }
   ],
   "source": [
    "#找出翹課仔\n",
    "school = {'Bobby','Tammy','Jammy','Sally','Danny'}\n",
    "attendance_list = ['Jammy', 'Bobby', 'Danny', 'Sally']\n",
    "\n",
    "attendance_list = set(attendance_list)           #都轉成set,才好運算\n",
    "print(school.difference(attendance_list))"
   ]
  },
  {
   "cell_type": "markdown",
   "metadata": {
    "colab_type": "text",
    "id": "tWez0d3HYCub"
   },
   "source": [
    "# Great job!"
   ]
  }
 ],
 "metadata": {
  "colab": {
   "collapsed_sections": [],
   "name": "(0319)Python Crash Course 2 Exercise.ipynb",
   "provenance": []
  },
  "kernelspec": {
   "display_name": "Python 3",
   "language": "python",
   "name": "python3"
  },
  "language_info": {
   "codemirror_mode": {
    "name": "ipython",
    "version": 3
   },
   "file_extension": ".py",
   "mimetype": "text/x-python",
   "name": "python",
   "nbconvert_exporter": "python",
   "pygments_lexer": "ipython3",
   "version": "3.7.1"
  }
 },
 "nbformat": 4,
 "nbformat_minor": 2
}
